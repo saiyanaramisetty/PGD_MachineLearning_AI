{
 "cells": [
  {
   "cell_type": "markdown",
   "metadata": {},
   "source": [
    "# Gesture Recognition\n",
    "In this group project, you are going to build a 3D Conv model that will be able to predict the 5 gestures correctly. Please import the following libraries to get started."
   ]
  },
  {
   "cell_type": "code",
   "execution_count": 17,
   "metadata": {},
   "outputs": [],
   "source": [
    "# Import statements\n",
    "import numpy as np\n",
    "import os\n",
    "from scipy.misc import imread, imresize\n",
    "import datetime\n",
    "import os\n",
    "\n",
    "from keras.models import Sequential, Model\n",
    "from keras.layers import Dense, GRU, Flatten, TimeDistributed, Flatten, BatchNormalization, Activation, Dropout\n",
    "from keras.layers.convolutional import Conv2D, MaxPooling2D, Conv3D, MaxPooling3D\n",
    "from keras.callbacks import ModelCheckpoint, ReduceLROnPlateau\n",
    "from keras import optimizers, regularizers\n",
    "from keras.regularizers import l2\n",
    "import keras\n",
    "\n",
    "import matplotlib.pyplot as plt"
   ]
  },
  {
   "cell_type": "markdown",
   "metadata": {},
   "source": [
    "We set the random seed so that the results don't vary drastically."
   ]
  },
  {
   "cell_type": "code",
   "execution_count": 18,
   "metadata": {},
   "outputs": [],
   "source": [
    "np.random.seed(30)\n",
    "import random as rn\n",
    "rn.seed(30)\n",
    "from keras import backend as K\n",
    "import tensorflow as tf\n",
    "tf.set_random_seed(30)"
   ]
  },
  {
   "cell_type": "markdown",
   "metadata": {},
   "source": [
    "In this block, you read the folder names for training and validation. You also set the `batch_size` here. Note that you set the batch size in such a way that you are able to use the GPU in full capacity. You keep increasing the batch size until the machine throws an error."
   ]
  },
  {
   "cell_type": "code",
   "execution_count": 19,
   "metadata": {},
   "outputs": [],
   "source": [
    "train_doc = np.random.permutation(open('./Project_data/train.csv').readlines())\n",
    "val_doc = np.random.permutation(open('./Project_data/val.csv').readlines())\n",
    "batch_size = 30 #experiment with the batch size"
   ]
  },
  {
   "cell_type": "markdown",
   "metadata": {},
   "source": [
    "# Generator\n",
    "This is one of the most important part of the code. The overall structure of the generator has been given. In the generator, you are going to preprocess the images as you have images of 2 different dimensions as well as create a batch of video frames. You have to experiment with `img_idx`, `y`,`z` and normalization such that you get high accuracy."
   ]
  },
  {
   "cell_type": "code",
   "execution_count": 20,
   "metadata": {},
   "outputs": [],
   "source": [
    "x_dim_img = 100\n",
    "y_dim_img = 100\n",
    "\n",
    "def image_normalization_std(img):\n",
    "    normalized_image= (img - np.mean(img))/np.std(img)\n",
    "    return normalized_image\n",
    "\n",
    "def image_normalization_minmax(img):\n",
    "    normalized_image= (img - np.min(img))/(np.max(img)- np.min(img))\n",
    "    return normalized_image\n",
    "\n",
    "def image_normalization_pixel(img):\n",
    "    return img/255\n",
    "\n",
    "# Note here that a video is represented above in the generator as (number of images, height, width, number of channels). Take this into consideration while creating the model architecture.\n",
    "def generator_2D(source_path, folder_list, batch_size):\n",
    "    print( 'Source path = ', source_path, '; batch size =', batch_size)\n",
    "    img_idx = list(range(0, 30, 3)) # create a list of image numbers you want to use for a particular video\n",
    "    #img_idx = list(range(0, 29)) # create a list of image numbers you want to use for a particular video\n",
    "    x, y, z = len(img_idx), x_dim_img, y_dim_img\n",
    "    \n",
    "    while True:\n",
    "        t = np.random.permutation(folder_list)\n",
    "        num_batches = len(folder_list)//batch_size # calculate the number of batches\n",
    "        \n",
    "        for batch in range(num_batches): # we iterate over the number of batches\n",
    "            batch_data = np.zeros((batch_size,x,y,z,3)) # x is the number of images you use for each video, (y,z) is the final size of the input images and 3 is the number of channels RGB\n",
    "            batch_labels = np.zeros((batch_size,5)) # batch_labels is the one hot representation of the output\n",
    "            \n",
    "            for folder in range(batch_size): # iterate over the batch_size\n",
    "                imgs = os.listdir(source_path+'/'+ t[folder + (batch*batch_size)].split(';')[0]) # read all the images in the folder\n",
    "                \n",
    "                for idx,item in enumerate(img_idx): #  Iterate iver the frames/images of a folder to read them in\n",
    "                    image = imread(source_path+'/'+ t[folder + (batch*batch_size)].strip().split(';')[0]+'/'+imgs[item]).astype(np.float32)\n",
    "                    \n",
    "                    #crop the images and resize them. Note that the images are of 2 different shape \n",
    "                    #and the conv3D will throw error if the inputs in a batch have different shapes\n",
    "                    \n",
    "                    resizedImage = imresize(image, (y, z))\n",
    "                    \n",
    "                    batch_data[folder,idx,:,:,0] = image_normalization_pixel(resizedImage[:, : , 0]) #normalise and feed in the image\n",
    "                    batch_data[folder,idx,:,:,1] = image_normalization_pixel(resizedImage[:, : , 1]) #normalise and feed in the image\n",
    "                    batch_data[folder,idx,:,:,2] = image_normalization_pixel(resizedImage[:, : , 2]) #normalise and feed in the image\n",
    "                    \n",
    "                batch_labels[folder, int(t[folder + (batch*batch_size)].strip().split(';')[2])] = 1\n",
    "            yield batch_data, batch_labels #you yield the batch_data and the batch_labels, remember what does yield do\n",
    "\n",
    "    \n",
    "        # write the code for the remaining data points which are left after full batches\n",
    "        if len(folder_list) > num_batches * batch_size:\n",
    "            batch_data = np.zeros((batch_size,x,y,z,3)) # x is the number of images you use for each video, (y,z) is the final size of the input images and 3 is the number of channels RGB\n",
    "            batch_labels = np.zeros((batch_size,5)) # batch_labels is the one hot representation of the output\n",
    "            \n",
    "            for folder in range(batch_size): # iterate over the batch_size\n",
    "                imgs = os.listdir(source_path+'/'+ t[folder + (batch*batch_size)].split(';')[0]) # read all the images in the folder\n",
    "                \n",
    "                for idx,item in enumerate(img_idx): #  Iterate iver the frames/images of a folder to read them in\n",
    "                    image = imread(source_path+'/'+ t[folder + (batch*batch_size)].strip().split(';')[0]+'/'+imgs[item]).astype(np.float32)\n",
    "                    \n",
    "                    #crop the images and resize them. Note that the images are of 2 different shape \n",
    "                    #and the conv3D will throw error if the inputs in a batch have different shapes\n",
    "                    \n",
    "                    resizedImage = imresize(image, (y, z))\n",
    "                    \n",
    "                    batch_data[folder,idx,:,:,0] = image_normalization_pixel(resizedImage[:, : , 0]) #normalise and feed in the image\n",
    "                    batch_data[folder,idx,:,:,1] = image_normalization_pixel(resizedImage[:, : , 1]) #normalise and feed in the image\n",
    "                    batch_data[folder,idx,:,:,2] = image_normalization_pixel(resizedImage[:, : , 2]) #normalise and feed in the image\n",
    "                    \n",
    "                batch_labels[folder, int(t[folder + (batch*batch_size)].strip().split(';')[2])] = 1\n",
    "            yield batch_data, batch_labels #you yield the batch_data and the batch_labels, remember what does yield do"
   ]
  },
  {
   "cell_type": "code",
   "execution_count": 21,
   "metadata": {},
   "outputs": [
    {
     "name": "stdout",
     "output_type": "stream",
     "text": [
      "# training sequences = 663\n",
      "# validation sequences = 100\n",
      "# epochs = 30\n"
     ]
    }
   ],
   "source": [
    "curr_dt_time = datetime.datetime.now()\n",
    "train_path = './Project_data/train'\n",
    "val_path = './Project_data/val'\n",
    "num_train_sequences = len(train_doc)\n",
    "print('# training sequences =', num_train_sequences)\n",
    "num_val_sequences = len(val_doc)\n",
    "print('# validation sequences =', num_val_sequences)\n",
    "num_epochs = 30 # choose the number of epochs\n",
    "print ('# epochs =', num_epochs)"
   ]
  },
  {
   "cell_type": "markdown",
   "metadata": {},
   "source": [
    "# Model\n",
    "Here you make the model using different functionalities that Keras provides. Remember to use `Conv3D` and `MaxPooling3D` and not `Conv2D` and `Maxpooling2D` for a 3D convolution model. You would want to use `TimeDistributed` while building a Conv2D + RNN model. Also remember that the last layer is the softmax. Design the network in such a way that the model is able to give good accuracy on the least number of parameters so that it can fit in the memory of the webcam.\n",
    "\n",
    "# Conv 2D with GRU Model:"
   ]
  },
  {
   "cell_type": "code",
   "execution_count": 22,
   "metadata": {},
   "outputs": [],
   "source": [
    "class CNN2DWithGRU:\n",
    "    def __init__(self):\n",
    "        return None\n",
    "    \n",
    "    def get_model(self, batch_size):\n",
    "        \n",
    "        regv = 0.01\n",
    "        cnn_model = Sequential()\n",
    "        \n",
    "        cnn_model.add(TimeDistributed(Conv2D(32, (1, 1), padding='same'), input_shape=(10, x_dim_img, y_dim_img, 3)))\n",
    "        #cnn_model.add(TimeDistributed(Conv2D(32, (1, 1), padding='same'), input_shape=(29, x_dim_img, y_dim_img, 3)))\n",
    "        cnn_model.add(TimeDistributed(Activation('relu')))\n",
    "        cnn_model.add(TimeDistributed(MaxPooling2D((3, 3), strides = (2,2))))\n",
    "        cnn_model.add(TimeDistributed(BatchNormalization()))\n",
    "        cnn_model.add(TimeDistributed(Conv2D(32, (3, 3), padding='same')))\n",
    "        cnn_model.add(TimeDistributed(Activation('relu')))\n",
    "        cnn_model.add(TimeDistributed(MaxPooling2D((3, 3), strides = (2,2))))\n",
    "        cnn_model.add(TimeDistributed(BatchNormalization()))\n",
    "        cnn_model.add(TimeDistributed(Conv2D(64, (3, 3), padding='same', kernel_regularizer=l2(regv), bias_regularizer=l2(regv))))\n",
    "        cnn_model.add(TimeDistributed(Activation('relu')))\n",
    "        cnn_model.add(TimeDistributed(BatchNormalization()))\n",
    "        cnn_model.add(Dropout(0.25))\n",
    "        cnn_model.add(TimeDistributed(Conv2D(64, (3, 3), padding='same', kernel_regularizer=l2(regv), bias_regularizer=l2(regv))))\n",
    "        cnn_model.add(TimeDistributed(Activation('relu')))\n",
    "        cnn_model.add(TimeDistributed(MaxPooling2D((3, 3))))\n",
    "        cnn_model.add(TimeDistributed(Conv2D(64, (3, 3), padding='same')))\n",
    "        cnn_model.add(TimeDistributed(Activation('relu')))\n",
    "        cnn_model.add(Dropout(0.25))\n",
    "        cnn_model.add(TimeDistributed(Conv2D(128, (3, 3), padding='same', kernel_regularizer=l2(regv), bias_regularizer=l2(regv))))\n",
    "        cnn_model.add(TimeDistributed(Activation('relu')))\n",
    "        cnn_model.add(Dropout(0.50))\n",
    "        cnn_model.add(TimeDistributed(Conv2D(256, (5, 5), padding='same', kernel_regularizer=l2(regv), bias_regularizer=l2(regv))))\n",
    "        cnn_model.add(TimeDistributed(Activation('relu')))\n",
    "        cnn_model.add(TimeDistributed(Flatten()))\n",
    "        cnn_model.add(Dense(16))\n",
    "        cnn_model.add(Dropout(.50))\n",
    "        cnn_model.add(GRU(64, return_sequences=False))\n",
    "        cnn_model.add(Dense(5, activation='softmax'))\n",
    "    \n",
    "        return cnn_model"
   ]
  },
  {
   "cell_type": "markdown",
   "metadata": {},
   "source": [
    "Now that you have written the model, the next step is to `compile` the model. When you print the `summary` of the model, you'll see the total number of parameters you have to train."
   ]
  },
  {
   "cell_type": "code",
   "execution_count": 23,
   "metadata": {},
   "outputs": [
    {
     "name": "stdout",
     "output_type": "stream",
     "text": [
      "Model: \"sequential_1\"\n",
      "_________________________________________________________________\n",
      "Layer (type)                 Output Shape              Param #   \n",
      "=================================================================\n",
      "time_distributed_21 (TimeDis (None, 10, 100, 100, 32)  128       \n",
      "_________________________________________________________________\n",
      "time_distributed_22 (TimeDis (None, 10, 100, 100, 32)  0         \n",
      "_________________________________________________________________\n",
      "time_distributed_23 (TimeDis (None, 10, 49, 49, 32)    0         \n",
      "_________________________________________________________________\n",
      "time_distributed_24 (TimeDis (None, 10, 49, 49, 32)    128       \n",
      "_________________________________________________________________\n",
      "time_distributed_25 (TimeDis (None, 10, 49, 49, 32)    9248      \n",
      "_________________________________________________________________\n",
      "time_distributed_26 (TimeDis (None, 10, 49, 49, 32)    0         \n",
      "_________________________________________________________________\n",
      "time_distributed_27 (TimeDis (None, 10, 24, 24, 32)    0         \n",
      "_________________________________________________________________\n",
      "time_distributed_28 (TimeDis (None, 10, 24, 24, 32)    128       \n",
      "_________________________________________________________________\n",
      "time_distributed_29 (TimeDis (None, 10, 24, 24, 64)    18496     \n",
      "_________________________________________________________________\n",
      "time_distributed_30 (TimeDis (None, 10, 24, 24, 64)    0         \n",
      "_________________________________________________________________\n",
      "time_distributed_31 (TimeDis (None, 10, 24, 24, 64)    256       \n",
      "_________________________________________________________________\n",
      "dropout_4 (Dropout)          (None, 10, 24, 24, 64)    0         \n",
      "_________________________________________________________________\n",
      "time_distributed_32 (TimeDis (None, 10, 24, 24, 64)    36928     \n",
      "_________________________________________________________________\n",
      "time_distributed_33 (TimeDis (None, 10, 24, 24, 64)    0         \n",
      "_________________________________________________________________\n",
      "time_distributed_34 (TimeDis (None, 10, 8, 8, 64)      0         \n",
      "_________________________________________________________________\n",
      "time_distributed_35 (TimeDis (None, 10, 8, 8, 64)      36928     \n",
      "_________________________________________________________________\n",
      "time_distributed_36 (TimeDis (None, 10, 8, 8, 64)      0         \n",
      "_________________________________________________________________\n",
      "dropout_5 (Dropout)          (None, 10, 8, 8, 64)      0         \n",
      "_________________________________________________________________\n",
      "time_distributed_37 (TimeDis (None, 10, 8, 8, 128)     73856     \n",
      "_________________________________________________________________\n",
      "time_distributed_38 (TimeDis (None, 10, 8, 8, 128)     0         \n",
      "_________________________________________________________________\n",
      "dropout_6 (Dropout)          (None, 10, 8, 8, 128)     0         \n",
      "_________________________________________________________________\n",
      "time_distributed_39 (TimeDis (None, 10, 8, 8, 256)     819456    \n",
      "_________________________________________________________________\n",
      "time_distributed_40 (TimeDis (None, 10, 8, 8, 256)     0         \n",
      "_________________________________________________________________\n",
      "time_distributed_41 (TimeDis (None, 10, 16384)         0         \n",
      "_________________________________________________________________\n",
      "dense_2 (Dense)              (None, 10, 16)            262160    \n",
      "_________________________________________________________________\n",
      "dropout_7 (Dropout)          (None, 10, 16)            0         \n",
      "_________________________________________________________________\n",
      "gru_1 (GRU)                  (None, 64)                15744     \n",
      "_________________________________________________________________\n",
      "dense_3 (Dense)              (None, 5)                 325       \n",
      "=================================================================\n",
      "Total params: 1,273,781\n",
      "Trainable params: 1,273,525\n",
      "Non-trainable params: 256\n",
      "_________________________________________________________________\n",
      "None\n"
     ]
    }
   ],
   "source": [
    "cnn2dgru = CNN2DWithGRU()\n",
    "model = cnn2dgru.get_model(batch_size)\n",
    "\n",
    "regv = 0.01\n",
    "optimiser = optimizers.SGD(lr=regv) #write your optimizer\n",
    "#optimiser = optimizers.Adam()\n",
    "model.compile(optimizer=optimiser, loss='categorical_crossentropy', metrics=['categorical_accuracy'])\n",
    "print (model.summary())"
   ]
  },
  {
   "cell_type": "markdown",
   "metadata": {},
   "source": [
    "Let us create the `train_generator` and the `val_generator` which will be used in `.fit_generator`."
   ]
  },
  {
   "cell_type": "code",
   "execution_count": 24,
   "metadata": {},
   "outputs": [],
   "source": [
    "train_generator = generator_2D(train_path, train_doc, batch_size)\n",
    "val_generator = generator_2D(val_path, val_doc, batch_size)"
   ]
  },
  {
   "cell_type": "code",
   "execution_count": 25,
   "metadata": {},
   "outputs": [
    {
     "name": "stdout",
     "output_type": "stream",
     "text": [
      "WARNING:tensorflow:`period` argument is deprecated. Please use `save_freq` to specify the frequency in number of batches seen.\n"
     ]
    }
   ],
   "source": [
    "model_name = 'model_init' + '_' + str(curr_dt_time).replace(' ','').replace(':','_') + '/'\n",
    "    \n",
    "if not os.path.exists(model_name):\n",
    "    os.mkdir(model_name)\n",
    "        \n",
    "filepath = model_name + 'model-{epoch:05d}-{loss:.5f}-{categorical_accuracy:.5f}-{val_loss:.5f}-{val_categorical_accuracy:.5f}.h5'\n",
    "\n",
    "checkpoint = ModelCheckpoint(filepath, monitor='val_loss', verbose=1, save_best_only=False, save_weights_only=False, mode='auto', period=1)\n",
    "\n",
    "LR = ReduceLROnPlateau(monitor = \"val_loss\", factor = 0.1, patience = 2, verbose = 1, mode = \"auto\", cooldown = 0) # write the REducelronplateau code here\n",
    "callbacks_list = [checkpoint, LR]"
   ]
  },
  {
   "cell_type": "markdown",
   "metadata": {},
   "source": [
    "The `steps_per_epoch` and `validation_steps` are used by `fit_generator` to decide the number of next() calls it need to make."
   ]
  },
  {
   "cell_type": "code",
   "execution_count": 26,
   "metadata": {},
   "outputs": [],
   "source": [
    "if (num_train_sequences%batch_size) == 0:\n",
    "    steps_per_epoch = int(num_train_sequences/batch_size)\n",
    "else:\n",
    "    steps_per_epoch = (num_train_sequences//batch_size) + 1\n",
    "\n",
    "if (num_val_sequences%batch_size) == 0:\n",
    "    validation_steps = int(num_val_sequences/batch_size)\n",
    "else:\n",
    "    validation_steps = (num_val_sequences//batch_size) + 1"
   ]
  },
  {
   "cell_type": "markdown",
   "metadata": {},
   "source": [
    "Let us now fit the model. This will start training the model and with the help of the checkpoints, you'll be able to save the model at the end of each epoch."
   ]
  },
  {
   "cell_type": "code",
   "execution_count": 27,
   "metadata": {
    "scrolled": false
   },
   "outputs": [
    {
     "name": "stdout",
     "output_type": "stream",
     "text": [
      "Source path =  ./Project_data/train ; batch size = 30\n"
     ]
    },
    {
     "name": "stderr",
     "output_type": "stream",
     "text": [
      "/Users/saiyanaramisetty/opt/anaconda3/lib/python3.7/site-packages/ipykernel_launcher.py:34: DeprecationWarning: `imread` is deprecated!\n",
      "`imread` is deprecated in SciPy 1.0.0, and will be removed in 1.2.0.\n",
      "Use ``imageio.imread`` instead.\n",
      "/Users/saiyanaramisetty/opt/anaconda3/lib/python3.7/site-packages/ipykernel_launcher.py:39: DeprecationWarning: `imresize` is deprecated!\n",
      "`imresize` is deprecated in SciPy 1.0.0, and will be removed in 1.2.0.\n",
      "Use ``skimage.transform.resize`` instead.\n"
     ]
    },
    {
     "name": "stdout",
     "output_type": "stream",
     "text": [
      "Epoch 1/30\n",
      "21/23 [==========================>...] - ETA: 4s - loss: 5.2537 - categorical_accuracy: 0.2095"
     ]
    },
    {
     "name": "stderr",
     "output_type": "stream",
     "text": [
      "/Users/saiyanaramisetty/opt/anaconda3/lib/python3.7/site-packages/ipykernel_launcher.py:58: DeprecationWarning: `imread` is deprecated!\n",
      "`imread` is deprecated in SciPy 1.0.0, and will be removed in 1.2.0.\n",
      "Use ``imageio.imread`` instead.\n",
      "/Users/saiyanaramisetty/opt/anaconda3/lib/python3.7/site-packages/ipykernel_launcher.py:63: DeprecationWarning: `imresize` is deprecated!\n",
      "`imresize` is deprecated in SciPy 1.0.0, and will be removed in 1.2.0.\n",
      "Use ``skimage.transform.resize`` instead.\n"
     ]
    },
    {
     "name": "stdout",
     "output_type": "stream",
     "text": [
      "23/23 [==============================] - ETA: 0s - loss: 5.2462 - categorical_accuracy: 0.2159Source path =  ./Project_data/val ; batch size = 30\n",
      "\n",
      "Epoch 00001: saving model to model_init_2020-12-2822_09_17.151435/model-00001-5.24621-0.21594-5.20507-0.20000.h5\n",
      "23/23 [==============================] - 66s 3s/step - loss: 5.2462 - categorical_accuracy: 0.2159 - val_loss: 5.2051 - val_categorical_accuracy: 0.2000\n",
      "Epoch 2/30\n",
      "23/23 [==============================] - ETA: 0s - loss: 5.1662 - categorical_accuracy: 0.2507\n",
      "Epoch 00002: saving model to model_init_2020-12-2822_09_17.151435/model-00002-5.16622-0.25072-5.17106-0.21667.h5\n",
      "23/23 [==============================] - 62s 3s/step - loss: 5.1662 - categorical_accuracy: 0.2507 - val_loss: 5.1711 - val_categorical_accuracy: 0.2167\n",
      "Epoch 3/30\n",
      "23/23 [==============================] - ETA: 0s - loss: 5.1054 - categorical_accuracy: 0.2870\n",
      "Epoch 00003: saving model to model_init_2020-12-2822_09_17.151435/model-00003-5.10544-0.28696-5.13714-0.20833.h5\n",
      "23/23 [==============================] - 63s 3s/step - loss: 5.1054 - categorical_accuracy: 0.2870 - val_loss: 5.1371 - val_categorical_accuracy: 0.2083\n",
      "Epoch 4/30\n",
      "23/23 [==============================] - ETA: 0s - loss: 4.9957 - categorical_accuracy: 0.3710 \n",
      "Epoch 00004: saving model to model_init_2020-12-2822_09_17.151435/model-00004-4.99573-0.37101-5.10582-0.18333.h5\n",
      "23/23 [==============================] - 751s 33s/step - loss: 4.9957 - categorical_accuracy: 0.3710 - val_loss: 5.1058 - val_categorical_accuracy: 0.1833\n",
      "Epoch 5/30\n",
      "23/23 [==============================] - ETA: 0s - loss: 4.8573 - categorical_accuracy: 0.4275\n",
      "Epoch 00005: saving model to model_init_2020-12-2822_09_17.151435/model-00005-4.85728-0.42754-5.07195-0.20000.h5\n",
      "23/23 [==============================] - 58s 3s/step - loss: 4.8573 - categorical_accuracy: 0.4275 - val_loss: 5.0720 - val_categorical_accuracy: 0.2000\n",
      "Epoch 6/30\n",
      "23/23 [==============================] - ETA: 0s - loss: 4.7776 - categorical_accuracy: 0.4449\n",
      "Epoch 00006: saving model to model_init_2020-12-2822_09_17.151435/model-00006-4.77755-0.44493-5.08231-0.25000.h5\n",
      "23/23 [==============================] - 58s 3s/step - loss: 4.7776 - categorical_accuracy: 0.4449 - val_loss: 5.0823 - val_categorical_accuracy: 0.2500\n",
      "Epoch 7/30\n",
      "23/23 [==============================] - ETA: 0s - loss: 4.6039 - categorical_accuracy: 0.5159\n",
      "Epoch 00007: saving model to model_init_2020-12-2822_09_17.151435/model-00007-4.60392-0.51594-5.05995-0.25000.h5\n",
      "23/23 [==============================] - 58s 3s/step - loss: 4.6039 - categorical_accuracy: 0.5159 - val_loss: 5.0600 - val_categorical_accuracy: 0.2500\n",
      "Epoch 8/30\n",
      "23/23 [==============================] - ETA: 0s - loss: 4.5056 - categorical_accuracy: 0.5406 \n",
      "Epoch 00008: saving model to model_init_2020-12-2822_09_17.151435/model-00008-4.50558-0.54058-5.06369-0.19167.h5\n",
      "23/23 [==============================] - 932s 41s/step - loss: 4.5056 - categorical_accuracy: 0.5406 - val_loss: 5.0637 - val_categorical_accuracy: 0.1917\n",
      "Epoch 9/30\n",
      "23/23 [==============================] - ETA: 0s - loss: 4.3968 - categorical_accuracy: 0.5797\n",
      "Epoch 00009: saving model to model_init_2020-12-2822_09_17.151435/model-00009-4.39684-0.57971-5.05952-0.15000.h5\n",
      "23/23 [==============================] - 60s 3s/step - loss: 4.3968 - categorical_accuracy: 0.5797 - val_loss: 5.0595 - val_categorical_accuracy: 0.1500\n",
      "Epoch 10/30\n",
      "23/23 [==============================] - ETA: 0s - loss: 4.3620 - categorical_accuracy: 0.5696\n",
      "Epoch 00010: saving model to model_init_2020-12-2822_09_17.151435/model-00010-4.36204-0.56957-5.06268-0.15000.h5\n",
      "23/23 [==============================] - 61s 3s/step - loss: 4.3620 - categorical_accuracy: 0.5696 - val_loss: 5.0627 - val_categorical_accuracy: 0.1500\n",
      "Epoch 11/30\n",
      "23/23 [==============================] - ETA: 0s - loss: 4.3080 - categorical_accuracy: 0.5739\n",
      "Epoch 00011: saving model to model_init_2020-12-2822_09_17.151435/model-00011-4.30800-0.57391-4.82475-0.39167.h5\n",
      "23/23 [==============================] - 63s 3s/step - loss: 4.3080 - categorical_accuracy: 0.5739 - val_loss: 4.8247 - val_categorical_accuracy: 0.3917\n",
      "Epoch 12/30\n",
      "23/23 [==============================] - ETA: 0s - loss: 4.2405 - categorical_accuracy: 0.6159\n",
      "Epoch 00012: saving model to model_init_2020-12-2822_09_17.151435/model-00012-4.24050-0.61594-4.83683-0.20000.h5\n",
      "23/23 [==============================] - 66s 3s/step - loss: 4.2405 - categorical_accuracy: 0.6159 - val_loss: 4.8368 - val_categorical_accuracy: 0.2000\n",
      "Epoch 13/30\n",
      "23/23 [==============================] - ETA: 0s - loss: 4.1170 - categorical_accuracy: 0.6681\n",
      "Epoch 00013: saving model to model_init_2020-12-2822_09_17.151435/model-00013-4.11705-0.66812-4.72685-0.32500.h5\n",
      "23/23 [==============================] - 63s 3s/step - loss: 4.1170 - categorical_accuracy: 0.6681 - val_loss: 4.7269 - val_categorical_accuracy: 0.3250\n",
      "Epoch 14/30\n",
      "23/23 [==============================] - ETA: 0s - loss: 4.1267 - categorical_accuracy: 0.6348\n",
      "Epoch 00014: saving model to model_init_2020-12-2822_09_17.151435/model-00014-4.12667-0.63478-4.86568-0.29167.h5\n",
      "23/23 [==============================] - 60s 3s/step - loss: 4.1267 - categorical_accuracy: 0.6348 - val_loss: 4.8657 - val_categorical_accuracy: 0.2917\n",
      "Epoch 15/30\n",
      "23/23 [==============================] - ETA: 0s - loss: 4.0803 - categorical_accuracy: 0.6478\n",
      "Epoch 00015: saving model to model_init_2020-12-2822_09_17.151435/model-00015-4.08032-0.64783-4.56100-0.37500.h5\n",
      "23/23 [==============================] - 61s 3s/step - loss: 4.0803 - categorical_accuracy: 0.6478 - val_loss: 4.5610 - val_categorical_accuracy: 0.3750\n",
      "Epoch 16/30\n",
      "23/23 [==============================] - ETA: 0s - loss: 3.9306 - categorical_accuracy: 0.7014\n",
      "Epoch 00016: saving model to model_init_2020-12-2822_09_17.151435/model-00016-3.93059-0.70145-4.45376-0.48333.h5\n",
      "23/23 [==============================] - 59s 3s/step - loss: 3.9306 - categorical_accuracy: 0.7014 - val_loss: 4.4538 - val_categorical_accuracy: 0.4833\n",
      "Epoch 17/30\n",
      "23/23 [==============================] - ETA: 0s - loss: 3.9399 - categorical_accuracy: 0.6855\n",
      "Epoch 00017: saving model to model_init_2020-12-2822_09_17.151435/model-00017-3.93988-0.68551-4.28982-0.53333.h5\n",
      "23/23 [==============================] - 60s 3s/step - loss: 3.9399 - categorical_accuracy: 0.6855 - val_loss: 4.2898 - val_categorical_accuracy: 0.5333\n",
      "Epoch 18/30\n",
      "23/23 [==============================] - ETA: 0s - loss: 3.8331 - categorical_accuracy: 0.7232\n",
      "Epoch 00018: saving model to model_init_2020-12-2822_09_17.151435/model-00018-3.83306-0.72319-4.33964-0.47500.h5\n",
      "23/23 [==============================] - 59s 3s/step - loss: 3.8331 - categorical_accuracy: 0.7232 - val_loss: 4.3396 - val_categorical_accuracy: 0.4750\n",
      "Epoch 19/30\n",
      "23/23 [==============================] - ETA: 0s - loss: 3.7605 - categorical_accuracy: 0.7609 \n",
      "Epoch 00019: saving model to model_init_2020-12-2822_09_17.151435/model-00019-3.76049-0.76087-4.34066-0.50000.h5\n",
      "\n",
      "Epoch 00019: ReduceLROnPlateau reducing learning rate to 0.0009999999776482583.\n",
      "23/23 [==============================] - 235s 10s/step - loss: 3.7605 - categorical_accuracy: 0.7609 - val_loss: 4.3407 - val_categorical_accuracy: 0.5000\n",
      "Epoch 20/30\n",
      "23/23 [==============================] - ETA: 0s - loss: 3.6823 - categorical_accuracy: 0.7841\n",
      "Epoch 00020: saving model to model_init_2020-12-2822_09_17.151435/model-00020-3.68234-0.78406-4.25745-0.50833.h5\n",
      "23/23 [==============================] - 61s 3s/step - loss: 3.6823 - categorical_accuracy: 0.7841 - val_loss: 4.2575 - val_categorical_accuracy: 0.5083\n",
      "Epoch 21/30\n",
      "23/23 [==============================] - ETA: 0s - loss: 3.6599 - categorical_accuracy: 0.7768\n",
      "Epoch 00021: saving model to model_init_2020-12-2822_09_17.151435/model-00021-3.65987-0.77681-4.29358-0.54167.h5\n",
      "23/23 [==============================] - 60s 3s/step - loss: 3.6599 - categorical_accuracy: 0.7768 - val_loss: 4.2936 - val_categorical_accuracy: 0.5417\n",
      "Epoch 22/30\n",
      "23/23 [==============================] - ETA: 0s - loss: 3.6558 - categorical_accuracy: 0.7826 \n",
      "Epoch 00022: saving model to model_init_2020-12-2822_09_17.151435/model-00022-3.65579-0.78261-3.94650-0.72500.h5\n",
      "23/23 [==============================] - 279s 12s/step - loss: 3.6558 - categorical_accuracy: 0.7826 - val_loss: 3.9465 - val_categorical_accuracy: 0.7250\n"
     ]
    },
    {
     "name": "stdout",
     "output_type": "stream",
     "text": [
      "Epoch 23/30\n",
      "23/23 [==============================] - ETA: 0s - loss: 3.6297 - categorical_accuracy: 0.8014\n",
      "Epoch 00023: saving model to model_init_2020-12-2822_09_17.151435/model-00023-3.62971-0.80145-3.98072-0.71667.h5\n",
      "23/23 [==============================] - 59s 3s/step - loss: 3.6297 - categorical_accuracy: 0.8014 - val_loss: 3.9807 - val_categorical_accuracy: 0.7167\n",
      "Epoch 24/30\n",
      "23/23 [==============================] - ETA: 0s - loss: 3.6357 - categorical_accuracy: 0.7957\n",
      "Epoch 00024: saving model to model_init_2020-12-2822_09_17.151435/model-00024-3.63575-0.79565-3.93358-0.66667.h5\n",
      "23/23 [==============================] - 60s 3s/step - loss: 3.6357 - categorical_accuracy: 0.7957 - val_loss: 3.9336 - val_categorical_accuracy: 0.6667\n",
      "Epoch 25/30\n",
      "23/23 [==============================] - ETA: 0s - loss: 3.6122 - categorical_accuracy: 0.8029\n",
      "Epoch 00025: saving model to model_init_2020-12-2822_09_17.151435/model-00025-3.61223-0.80290-3.98342-0.66667.h5\n",
      "23/23 [==============================] - 118s 5s/step - loss: 3.6122 - categorical_accuracy: 0.8029 - val_loss: 3.9834 - val_categorical_accuracy: 0.6667\n",
      "Epoch 26/30\n",
      "23/23 [==============================] - ETA: 0s - loss: 3.6280 - categorical_accuracy: 0.8217\n",
      "Epoch 00026: saving model to model_init_2020-12-2822_09_17.151435/model-00026-3.62799-0.82174-4.11767-0.63333.h5\n",
      "\n",
      "Epoch 00026: ReduceLROnPlateau reducing learning rate to 9.999999310821295e-05.\n",
      "23/23 [==============================] - 62s 3s/step - loss: 3.6280 - categorical_accuracy: 0.8217 - val_loss: 4.1177 - val_categorical_accuracy: 0.6333\n",
      "Epoch 27/30\n",
      "23/23 [==============================] - ETA: 0s - loss: 3.6181 - categorical_accuracy: 0.7855\n",
      "Epoch 00027: saving model to model_init_2020-12-2822_09_17.151435/model-00027-3.61810-0.78551-3.84385-0.73333.h5\n",
      "23/23 [==============================] - 69s 3s/step - loss: 3.6181 - categorical_accuracy: 0.7855 - val_loss: 3.8438 - val_categorical_accuracy: 0.7333\n",
      "Epoch 28/30\n",
      "23/23 [==============================] - ETA: 0s - loss: 3.6074 - categorical_accuracy: 0.8000\n",
      "Epoch 00028: saving model to model_init_2020-12-2822_09_17.151435/model-00028-3.60742-0.80000-3.89128-0.65833.h5\n",
      "23/23 [==============================] - 70s 3s/step - loss: 3.6074 - categorical_accuracy: 0.8000 - val_loss: 3.8913 - val_categorical_accuracy: 0.6583\n",
      "Epoch 29/30\n",
      "23/23 [==============================] - ETA: 0s - loss: 3.6048 - categorical_accuracy: 0.7971\n",
      "Epoch 00029: saving model to model_init_2020-12-2822_09_17.151435/model-00029-3.60478-0.79710-3.83733-0.72500.h5\n",
      "23/23 [==============================] - 69s 3s/step - loss: 3.6048 - categorical_accuracy: 0.7971 - val_loss: 3.8373 - val_categorical_accuracy: 0.7250\n",
      "Epoch 30/30\n",
      "23/23 [==============================] - ETA: 0s - loss: 3.5893 - categorical_accuracy: 0.8043\n",
      "Epoch 00030: saving model to model_init_2020-12-2822_09_17.151435/model-00030-3.58926-0.80435-3.86031-0.72500.h5\n",
      "23/23 [==============================] - 70s 3s/step - loss: 3.5893 - categorical_accuracy: 0.8043 - val_loss: 3.8603 - val_categorical_accuracy: 0.7250\n"
     ]
    }
   ],
   "source": [
    "cnn_rnn_model = model.fit_generator(train_generator, steps_per_epoch=steps_per_epoch, epochs=num_epochs, verbose=1, \n",
    "                    callbacks=callbacks_list, validation_data=val_generator, \n",
    "                    validation_steps=validation_steps, class_weight=None, workers=1, initial_epoch=0)"
   ]
  },
  {
   "cell_type": "code",
   "execution_count": 28,
   "metadata": {},
   "outputs": [],
   "source": [
    "class PlotEvaluationMetrics():\n",
    "    \n",
    "    def plot_graph(self, history):\n",
    "        f, (ax1, ax2) = plt.subplots(1, 2, sharey=False)\n",
    "        f.set_figheight(5)\n",
    "        f.set_figwidth(15)\n",
    "        \n",
    "        ax1.plot(history.history['categorical_accuracy'])\n",
    "        ax1.plot(history.history['val_categorical_accuracy'])\n",
    "        ax1.title.set_text('Accuracy')\n",
    "        ax1.set_ylabel('accuracy')\n",
    "        ax1.set_xlabel('epoch')\n",
    "        ax1.legend(['train', 'test'], loc='upper left')\n",
    "        \n",
    "        ax2.plot(history.history['loss'])\n",
    "        ax2.plot(history.history['val_loss'])\n",
    "        ax2.title.set_text('Loss function')\n",
    "        ax2.set_ylabel('Loss')\n",
    "        ax2.set_xlabel('epoch')\n",
    "        ax2.legend(['train', 'test'], loc='upper left')\n",
    "        \n",
    "        plt.show()\n",
    "        \n",
    "def print_evaluation_metrics(obj, epoch):\n",
    "    print(\"Training Loss: \", obj.history['loss'][epoch-1])\n",
    "    print(\"Training Accuracy: \", obj.history['categorical_accuracy'][epoch-1])\n",
    "    print(\"Validation Loss: \", obj.history['val_loss'][epoch-1])\n",
    "    print(\"Validation Accuracy: \", obj.history['val_categorical_accuracy'][epoch-1])"
   ]
  },
  {
   "cell_type": "code",
   "execution_count": 29,
   "metadata": {},
   "outputs": [
    {
     "data": {
      "image/png": "[encoded data removed]",
      "text/plain": [
       "<Figure size 1080x360 with 2 Axes>"
      ]
     },
     "metadata": {
      "needs_background": "light"
     },
     "output_type": "display_data"
    },
    {
     "name": "stdout",
     "output_type": "stream",
     "text": [
      "Conv 2D with GRU model:\n",
      "Training Loss:  3.589263916015625\n",
      "Training Accuracy:  0.804347813129425\n",
      "Validation Loss:  3.8603084087371826\n",
      "Validation Accuracy:  0.7250000238418579\n"
     ]
    }
   ],
   "source": [
    "plotting_obj = PlotEvaluationMetrics()\n",
    "plotting_obj.plot_graph(cnn_rnn_model)\n",
    "print(\"Conv 2D with GRU model:\")\n",
    "print_evaluation_metrics(cnn_rnn_model, num_epochs)"
   ]
  },
  {
   "cell_type": "markdown",
   "metadata": {},
   "source": [
    "## Conv3D Model:"
   ]
  },
  {
   "cell_type": "code",
   "execution_count": 38,
   "metadata": {},
   "outputs": [],
   "source": [
    "# batch_size = 30\n",
    "# num_epochs = 10"
   ]
  },
  {
   "cell_type": "code",
   "execution_count": 39,
   "metadata": {},
   "outputs": [],
   "source": [
    "# # Note here that a video is represented above in the generator as (number of images, height, width, number of channels). Take this into consideration while creating the model architecture.\n",
    "# def generator_3D(source_path, folder_list, batch_size):\n",
    "#     print( 'Source path = ', source_path, '; batch size =', batch_size)\n",
    "#     #img_idx = list(range(0, 30, 3)) # create a list of image numbers you want to use for a particular video\n",
    "#     img_idx = list(range(0, 29)) # create a list of image numbers you want to use for a particular video\n",
    "#     x, y, z = len(img_idx), x_dim_img, y_dim_img\n",
    "    \n",
    "#     while True:\n",
    "#         t = np.random.permutation(folder_list)\n",
    "#         num_batches = len(folder_list)//batch_size # calculate the number of batches\n",
    "        \n",
    "#         for batch in range(num_batches): # we iterate over the number of batches\n",
    "#             batch_data = np.zeros((batch_size,x,y,z,3)) # x is the number of images you use for each video, (y,z) is the final size of the input images and 3 is the number of channels RGB\n",
    "#             batch_labels = np.zeros((batch_size,5)) # batch_labels is the one hot representation of the output\n",
    "            \n",
    "#             for folder in range(batch_size): # iterate over the batch_size\n",
    "#                 imgs = os.listdir(source_path+'/'+ t[folder + (batch*batch_size)].split(';')[0]) # read all the images in the folder\n",
    "                \n",
    "#                 for idx,item in enumerate(img_idx): #  Iterate iver the frames/images of a folder to read them in\n",
    "#                     image = imread(source_path+'/'+ t[folder + (batch*batch_size)].strip().split(';')[0]+'/'+imgs[item]).astype(np.float32)\n",
    "                    \n",
    "#                     #crop the images and resize them. Note that the images are of 2 different shape \n",
    "#                     #and the conv3D will throw error if the inputs in a batch have different shapes\n",
    "                    \n",
    "#                     resizedImage = imresize(image, (y, z))\n",
    "                    \n",
    "#                     batch_data[folder,idx,:,:,0] = image_normalization_pixel(resizedImage[:, : , 0]) #normalise and feed in the image\n",
    "#                     batch_data[folder,idx,:,:,1] = image_normalization_pixel(resizedImage[:, : , 1]) #normalise and feed in the image\n",
    "#                     batch_data[folder,idx,:,:,2] = image_normalization_pixel(resizedImage[:, : , 2]) #normalise and feed in the image\n",
    "                    \n",
    "#                 batch_labels[folder, int(t[folder + (batch*batch_size)].strip().split(';')[2])] = 1\n",
    "#             yield batch_data, batch_labels #you yield the batch_data and the batch_labels, remember what does yield do\n",
    "\n",
    "    \n",
    "#         # write the code for the remaining data points which are left after full batches\n",
    "#         if len(folder_list) > num_batches * batch_size:\n",
    "#             batch_data = np.zeros((batch_size,x,y,z,3)) # x is the number of images you use for each video, (y,z) is the final size of the input images and 3 is the number of channels RGB\n",
    "#             batch_labels = np.zeros((batch_size,5)) # batch_labels is the one hot representation of the output\n",
    "            \n",
    "#             for folder in range(batch_size): # iterate over the batch_size\n",
    "#                 imgs = os.listdir(source_path+'/'+ t[folder + (batch*batch_size)].split(';')[0]) # read all the images in the folder\n",
    "                \n",
    "#                 for idx,item in enumerate(img_idx): #  Iterate iver the frames/images of a folder to read them in\n",
    "#                     image = imread(source_path+'/'+ t[folder + (batch*batch_size)].strip().split(';')[0]+'/'+imgs[item]).astype(np.float32)\n",
    "                    \n",
    "#                     #crop the images and resize them. Note that the images are of 2 different shape \n",
    "#                     #and the conv3D will throw error if the inputs in a batch have different shapes\n",
    "                    \n",
    "#                     resizedImage = imresize(image, (y, z))\n",
    "                    \n",
    "#                     batch_data[folder,idx,:,:,0] = image_normalization_pixel(resizedImage[:, : , 0]) #normalise and feed in the image\n",
    "#                     batch_data[folder,idx,:,:,1] = image_normalization_pixel(resizedImage[:, : , 1]) #normalise and feed in the image\n",
    "#                     batch_data[folder,idx,:,:,2] = image_normalization_pixel(resizedImage[:, : , 2]) #normalise and feed in the image\n",
    "                    \n",
    "#                 batch_labels[folder, int(t[folder + (batch*batch_size)].strip().split(';')[2])] = 1\n",
    "#             yield batch_data, batch_labels #you yield the batch_data and the batch_labels, remember what does yield do"
   ]
  },
  {
   "cell_type": "code",
   "execution_count": 40,
   "metadata": {},
   "outputs": [],
   "source": [
    "# num_classes = 5\n",
    "# regv = 0.01\n",
    "# model = Sequential()\n",
    "\n",
    "# model.add(Conv3D(32, (3, 3, 3), padding='same', input_shape=(29,x_dim_img, y_dim_img, 3)))\n",
    "# model.add(Activation('relu'))\n",
    "# model.add(BatchNormalization())\n",
    "# model.add(MaxPooling3D(pool_size=(2, 2, 2)))\n",
    "\n",
    "\n",
    "# model.add(Conv3D(64, (3, 3, 3), padding='same', input_shape=(29,x_dim_img, y_dim_img, 3)))\n",
    "# model.add(Activation('relu'))\n",
    "# model.add(BatchNormalization())\n",
    "# model.add(MaxPooling3D(pool_size=(2, 2, 2)))\n",
    "\n",
    "# model.add(Conv3D(128, (3, 3, 3), padding='same', input_shape=(29,x_dim_img, y_dim_img, 3)))\n",
    "# model.add(Activation('relu'))\n",
    "# model.add(BatchNormalization())\n",
    "# model.add(MaxPooling3D(pool_size=(2, 2, 2)))\n",
    "\n",
    "# model.add(Flatten())\n",
    "# model.add(Dropout(0.5))\n",
    "# model.add(Dense(512,kernel_regularizer=l2(regv)))\n",
    "# model.add(Activation('relu'))\n",
    "# model.add(Dense(num_classes))\n",
    "# model.add(Activation('softmax')) "
   ]
  },
  {
   "cell_type": "markdown",
   "metadata": {},
   "source": [
    "Now that you have written the model, the next step is to `compile` the model. When you print the `summary` of the model, you'll see the total number of parameters you have to train."
   ]
  },
  {
   "cell_type": "code",
   "execution_count": 41,
   "metadata": {},
   "outputs": [],
   "source": [
    "# regv = 0.01\n",
    "# optimiser = optimizers.SGD(lr=regv) #write your optimizer\n",
    "# #optimiser = optimizers.Adam()\n",
    "# model.compile(optimizer=optimiser, loss='categorical_crossentropy', metrics=['categorical_accuracy'])\n",
    "# print (model.summary())"
   ]
  },
  {
   "cell_type": "markdown",
   "metadata": {},
   "source": [
    "Let us create the `train_generator` and the `val_generator` which will be used in `.fit_generator`."
   ]
  },
  {
   "cell_type": "code",
   "execution_count": 42,
   "metadata": {},
   "outputs": [],
   "source": [
    "# train_generator = generator_3D(train_path, train_doc, batch_size)\n",
    "# val_generator = generator_3D(val_path, val_doc, batch_size)"
   ]
  },
  {
   "cell_type": "code",
   "execution_count": 43,
   "metadata": {},
   "outputs": [],
   "source": [
    "# model_name = 'model_init' + '_' + str(curr_dt_time).replace(' ','').replace(':','_') + '/'\n",
    "    \n",
    "# if not os.path.exists(model_name):\n",
    "#     os.mkdir(model_name)\n",
    "        \n",
    "# filepath = model_name + 'model-{epoch:05d}-{loss:.5f}-{categorical_accuracy:.5f}-{val_loss:.5f}-{val_categorical_accuracy:.5f}.h5'\n",
    "\n",
    "# checkpoint = ModelCheckpoint(filepath, monitor='val_loss', verbose=1, save_best_only=False, save_weights_only=False, mode='auto', period=1)\n",
    "\n",
    "# LR = ReduceLROnPlateau(monitor='val_loss', factor=0.01, patience=5, cooldown=4, verbose=1,mode='auto',epsilon=0.0001)# write the REducelronplateau code here\n",
    "# callbacks_list = [checkpoint, LR]"
   ]
  },
  {
   "cell_type": "markdown",
   "metadata": {},
   "source": [
    "The `steps_per_epoch` and `validation_steps` are used by `fit_generator` to decide the number of next() calls it need to make."
   ]
  },
  {
   "cell_type": "code",
   "execution_count": 44,
   "metadata": {},
   "outputs": [],
   "source": [
    "# if (num_train_sequences%batch_size) == 0:\n",
    "#     steps_per_epoch = int(num_train_sequences/batch_size)\n",
    "# else:\n",
    "#     steps_per_epoch = (num_train_sequences//batch_size) + 1\n",
    "\n",
    "# if (num_val_sequences%batch_size) == 0:\n",
    "#     validation_steps = int(num_val_sequences/batch_size)\n",
    "# else:\n",
    "#     validation_steps = (num_val_sequences//batch_size) + 1"
   ]
  },
  {
   "cell_type": "markdown",
   "metadata": {},
   "source": [
    "Let us now fit the model. This will start training the model and with the help of the checkpoints, you'll be able to save the model at the end of each epoch."
   ]
  },
  {
   "cell_type": "code",
   "execution_count": 45,
   "metadata": {
    "scrolled": false
   },
   "outputs": [],
   "source": [
    "# model = model.fit_generator(train_generator, steps_per_epoch=steps_per_epoch, epochs=num_epochs, verbose=1, \n",
    "#                     callbacks=callbacks_list, validation_data=val_generator, \n",
    "#                     validation_steps=validation_steps, class_weight=None, workers=1, initial_epoch=0)"
   ]
  },
  {
   "cell_type": "code",
   "execution_count": 46,
   "metadata": {},
   "outputs": [],
   "source": [
    "# plotting_obj = PlotEvaluationMetrics()\n",
    "# plotting_obj.plot_graph(model)\n",
    "# print(\"Conv 3D model:\")\n",
    "# print_evaluation_metrics(model, num_epochs)"
   ]
  },
  {
   "cell_type": "code",
   "execution_count": null,
   "metadata": {},
   "outputs": [],
   "source": []
  },
  {
   "cell_type": "code",
   "execution_count": null,
   "metadata": {},
   "outputs": [],
   "source": []
  }
 ],
 "metadata": {
  "kernelspec": {
   "display_name": "Python 3",
   "language": "python",
   "name": "python3"
  },
  "language_info": {
   "codemirror_mode": {
    "name": "ipython",
    "version": 3
   },
   "file_extension": ".py",
   "mimetype": "text/x-python",
   "name": "python",
   "nbconvert_exporter": "python",
   "pygments_lexer": "ipython3",
   "version": "3.7.4"
  }
 },
 "nbformat": 4,
 "nbformat_minor": 2
}
