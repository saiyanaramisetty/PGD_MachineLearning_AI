{
 "cells": [
  {
   "cell_type": "markdown",
   "metadata": {},
   "source": [
    "# Investment Assignment \n",
    "## Saiyana Ramisetty"
   ]
  },
  {
   "cell_type": "markdown",
   "metadata": {},
   "source": [
    "Spark Funds (an asset management company) wants to make investments in a few companies. The goal of this assignment is to understand the global trends in investments to take effective decisions.\n",
    "\n",
    "**Business objective**: The objective is to identify the best sectors, countries, and a suitable investment type for making investments. The overall strategy is to invest where others are investing, implying that the 'best' sectors and countries are the ones 'where most investors are investing'.\n",
    "\n",
    "**Constraints:**\n",
    "Spark Funds has two minor constraints for investments:\n",
    " - It wants to invest between 5 to 15 million USD per round of investment\n",
    " - It wants to invest only in English-speaking countries because of the ease of communication with the companies it would invest in"
   ]
  },
  {
   "cell_type": "markdown",
   "metadata": {},
   "source": [
    "**Understanding the data**: Overall dataset consists of 3 files, (companies.txt, rounds2.csv, mappings.csv)\n",
    "\n",
    " - **companies.txt**: A table with basic data of companies - Company details\n",
    " - **rounds2.csv**: Funding round details\n",
    " - **mappings.csv**: This file maps the numerous category names in the companies table (such 3D printing, aerospace, agriculture, etc.) to eight broad sector names. The purpose is to simplify the analysis into eight sector buckets, rather than trying to analyse hundreds of them. - Section Classification"
   ]
  },
  {
   "cell_type": "markdown",
   "metadata": {},
   "source": [
    "## Checkpoint 1 - Data Cleaning\n",
    "This step includes the following operations:\n",
    " - Data Loading\n",
    " - Understanding the data\n",
    " - Checking for Data inconsistency"
   ]
  },
  {
   "cell_type": "code",
   "execution_count": 1,
   "metadata": {},
   "outputs": [],
   "source": [
    "# Import statements\n",
    "\n",
    "import numpy as np\n",
    "import pandas as pd\n",
    "import matplotlib.pyplot as plt\n",
    "import seaborn as sns\n",
    "import math"
   ]
  },
  {
   "cell_type": "code",
   "execution_count": 2,
   "metadata": {},
   "outputs": [],
   "source": [
    "# Data Loading\n",
    "\n",
    "path_var = \"\" # Replace correct path\n",
    "\n",
    "companies = pd.read_csv(path_var + \"companies.txt\", encoding = \"ISO-8859-1\", sep = \"\\t\")\n",
    "companies[\"permalink\"] = companies[\"permalink\"].str.encode(\"ISO-8859-1\").str.decode(\"ascii\", \"ignore\")\n",
    "companies[\"name\"] = companies[\"name\"].str.encode(\"ISO-8859-1\").str.decode(\"ascii\", \"ignore\")\n",
    "\n",
    "rounds2 = pd.read_csv(path_var + \"rounds2.csv\", encoding = \"ISO-8859-1\")\n",
    "rounds2[\"company_permalink\"] = rounds2[\"company_permalink\"].str.encode(\"ISO-8859-1\").str.decode(\"ascii\", \"ignore\")"
   ]
  },
  {
   "cell_type": "code",
   "execution_count": 3,
   "metadata": {},
   "outputs": [
    {
     "data": {
      "text/html": [
       "<div>\n",
       "<style scoped>\n",
       "    .dataframe tbody tr th:only-of-type {\n",
       "        vertical-align: middle;\n",
       "    }\n",
       "\n",
       "    .dataframe tbody tr th {\n",
       "        vertical-align: top;\n",
       "    }\n",
       "\n",
       "    .dataframe thead th {\n",
       "        text-align: right;\n",
       "    }\n",
       "</style>\n",
       "<table border=\"1\" class=\"dataframe\">\n",
       "  <thead>\n",
       "    <tr style=\"text-align: right;\">\n",
       "      <th></th>\n",
       "      <th>permalink</th>\n",
       "      <th>name</th>\n",
       "      <th>homepage_url</th>\n",
       "      <th>category_list</th>\n",
       "      <th>status</th>\n",
       "      <th>country_code</th>\n",
       "      <th>state_code</th>\n",
       "      <th>region</th>\n",
       "      <th>city</th>\n",
       "      <th>founded_at</th>\n",
       "    </tr>\n",
       "  </thead>\n",
       "  <tbody>\n",
       "    <tr>\n",
       "      <td>count</td>\n",
       "      <td>66368</td>\n",
       "      <td>66367</td>\n",
       "      <td>61310</td>\n",
       "      <td>63220</td>\n",
       "      <td>66368</td>\n",
       "      <td>59410</td>\n",
       "      <td>57821</td>\n",
       "      <td>58338</td>\n",
       "      <td>58340</td>\n",
       "      <td>51147</td>\n",
       "    </tr>\n",
       "    <tr>\n",
       "      <td>unique</td>\n",
       "      <td>66368</td>\n",
       "      <td>66102</td>\n",
       "      <td>61191</td>\n",
       "      <td>27296</td>\n",
       "      <td>4</td>\n",
       "      <td>137</td>\n",
       "      <td>311</td>\n",
       "      <td>1092</td>\n",
       "      <td>5111</td>\n",
       "      <td>3978</td>\n",
       "    </tr>\n",
       "    <tr>\n",
       "      <td>top</td>\n",
       "      <td>/Organization/Feedvisor</td>\n",
       "      <td>Spire</td>\n",
       "      <td>http://www.askforoffer.com</td>\n",
       "      <td>Software</td>\n",
       "      <td>operating</td>\n",
       "      <td>USA</td>\n",
       "      <td>CA</td>\n",
       "      <td>SF Bay Area</td>\n",
       "      <td>San Francisco</td>\n",
       "      <td>01-01-2012</td>\n",
       "    </tr>\n",
       "    <tr>\n",
       "      <td>freq</td>\n",
       "      <td>1</td>\n",
       "      <td>4</td>\n",
       "      <td>5</td>\n",
       "      <td>3995</td>\n",
       "      <td>53034</td>\n",
       "      <td>37601</td>\n",
       "      <td>12900</td>\n",
       "      <td>8804</td>\n",
       "      <td>3526</td>\n",
       "      <td>2730</td>\n",
       "    </tr>\n",
       "  </tbody>\n",
       "</table>\n",
       "</div>"
      ],
      "text/plain": [
       "                      permalink   name                homepage_url  \\\n",
       "count                     66368  66367                       61310   \n",
       "unique                    66368  66102                       61191   \n",
       "top     /Organization/Feedvisor  Spire  http://www.askforoffer.com   \n",
       "freq                          1      4                           5   \n",
       "\n",
       "       category_list     status country_code state_code       region  \\\n",
       "count          63220      66368        59410      57821        58338   \n",
       "unique         27296          4          137        311         1092   \n",
       "top         Software  operating          USA         CA  SF Bay Area   \n",
       "freq            3995      53034        37601      12900         8804   \n",
       "\n",
       "                 city  founded_at  \n",
       "count           58340       51147  \n",
       "unique           5111        3978  \n",
       "top     San Francisco  01-01-2012  \n",
       "freq             3526        2730  "
      ]
     },
     "execution_count": 3,
     "metadata": {},
     "output_type": "execute_result"
    }
   ],
   "source": [
    "# Understanding the data\n",
    "\n",
    "# companies dataframe has important information such as the unique_id of the company, catergory_list, country_code\n",
    "\n",
    "companies.describe()\n",
    "# companies.head(5)"
   ]
  },
  {
   "cell_type": "code",
   "execution_count": 4,
   "metadata": {},
   "outputs": [
    {
     "name": "stdout",
     "output_type": "stream",
     "text": [
      "<class 'pandas.core.frame.DataFrame'>\n",
      "RangeIndex: 114949 entries, 0 to 114948\n",
      "Data columns (total 6 columns):\n",
      "company_permalink          114949 non-null object\n",
      "funding_round_permalink    114949 non-null object\n",
      "funding_round_type         114949 non-null object\n",
      "funding_round_code         31140 non-null object\n",
      "funded_at                  114949 non-null object\n",
      "raised_amount_usd          94959 non-null float64\n",
      "dtypes: float64(1), object(5)\n",
      "memory usage: 5.3+ MB\n"
     ]
    }
   ],
   "source": [
    "# rounds2 dataframe has important information such as the funding_round_type, raised_amount_usd, unique_id of the company\n",
    "\n",
    "rounds2.info()\n",
    "# companies.head(5)"
   ]
  },
  {
   "cell_type": "code",
   "execution_count": 5,
   "metadata": {},
   "outputs": [],
   "source": [
    "# Checking for Data inconsistency\n",
    "\n",
    "# Converting the unique_ids of the companies to lower case to avoid miscalculations during further analysis\n",
    "\n",
    "rounds2[\"company_permalink\"] = rounds2[\"company_permalink\"].str.lower()\n",
    "companies[\"permalink\"] = companies[\"permalink\"].str.lower()"
   ]
  },
  {
   "cell_type": "markdown",
   "metadata": {},
   "source": [
    "## Understanding the dataset"
   ]
  },
  {
   "cell_type": "markdown",
   "metadata": {},
   "source": [
    " - How many **unique companies** are present in **rounds2**? - 66368"
   ]
  },
  {
   "cell_type": "code",
   "execution_count": 6,
   "metadata": {},
   "outputs": [
    {
     "data": {
      "text/plain": [
       "66368"
      ]
     },
     "execution_count": 6,
     "metadata": {},
     "output_type": "execute_result"
    }
   ],
   "source": [
    "unique_in_rounds_count = rounds2[\"company_permalink\"].nunique(dropna = True)\n",
    "unique_in_rounds_count"
   ]
  },
  {
   "cell_type": "markdown",
   "metadata": {},
   "source": [
    " - How many **unique companies** are present in **companies**? - 66368"
   ]
  },
  {
   "cell_type": "code",
   "execution_count": 7,
   "metadata": {},
   "outputs": [
    {
     "data": {
      "text/plain": [
       "66368"
      ]
     },
     "execution_count": 7,
     "metadata": {},
     "output_type": "execute_result"
    }
   ],
   "source": [
    "unique_in_companies_count = companies[\"permalink\"].nunique(dropna = True)\n",
    "unique_in_companies_count"
   ]
  },
  {
   "cell_type": "markdown",
   "metadata": {},
   "source": [
    " - In the **companies** data frame, which column can be used as the unique key for each company? Write the **name of the column**. - permalink"
   ]
  },
  {
   "cell_type": "markdown",
   "metadata": {},
   "source": [
    " - Are there any companies in the rounds2 file which are not present in companies? - No"
   ]
  },
  {
   "cell_type": "code",
   "execution_count": 8,
   "metadata": {},
   "outputs": [
    {
     "data": {
      "text/plain": [
       "0"
      ]
     },
     "execution_count": 8,
     "metadata": {},
     "output_type": "execute_result"
    }
   ],
   "source": [
    "# Find out unique companies from both the dataframes\n",
    "\n",
    "unique_in_rounds = pd.DataFrame({\"company_id\" : rounds2[\"company_permalink\"].unique()})\n",
    "unique_in_companies = pd.DataFrame({\"company_id\" : companies[\"permalink\"].unique()})\n",
    "\n",
    "# Companies which are only present in rounds2 but not in companies (rounds2 - companies)\n",
    "\n",
    "all_companies_merged = unique_in_rounds.merge(unique_in_companies, on = [\"company_id\"])\n",
    "only_in_rounds_not_in_companies = unique_in_rounds[ ~ unique_in_rounds[\"company_id\"].isin(all_companies_merged[\"company_id\"])]\n",
    "\n",
    "len(only_in_rounds_not_in_companies)"
   ]
  },
  {
   "cell_type": "markdown",
   "metadata": {},
   "source": [
    " - Merge the two data frames so that all  variables (columns)  in the **companies** frame are added to the **rounds2** data frame. Name the merged frame **master_frame**. How many observations are present in master_frame ? - 114949"
   ]
  },
  {
   "cell_type": "code",
   "execution_count": 9,
   "metadata": {},
   "outputs": [
    {
     "data": {
      "text/plain": [
       "114949"
      ]
     },
     "execution_count": 9,
     "metadata": {},
     "output_type": "execute_result"
    }
   ],
   "source": [
    "master_frame = pd.merge(left = rounds2, right = companies, left_on = \"company_permalink\", right_on = \"permalink\", how = \"left\")\n",
    "len(master_frame)"
   ]
  },
  {
   "cell_type": "markdown",
   "metadata": {},
   "source": [
    "## Checkpoint 2: Funding Type Analysis\n",
    "The funding types such as seed, venture, angel, etc. depend on the type of the company (startup, corporate, etc.), its stage (early stage startup, funded startup, etc.), the amount of funding (a few million USD to a billion USD), and so on.\n",
    "\n",
    "Spark Funds wants to choose one of these four investment types for each potential investment they will make."
   ]
  },
  {
   "cell_type": "markdown",
   "metadata": {},
   "source": [
    "Handling missing values :\n",
    "Next step is to check for null values and handling them based on the features importance in the analysis.\n",
    "Percentage of NaN values present in the master_frame:"
   ]
  },
  {
   "cell_type": "code",
   "execution_count": 10,
   "metadata": {},
   "outputs": [
    {
     "data": {
      "text/plain": [
       "company_permalink           0.00\n",
       "funding_round_permalink     0.00\n",
       "funding_round_type          0.00\n",
       "funding_round_code         72.91\n",
       "funded_at                   0.00\n",
       "raised_amount_usd          17.39\n",
       "permalink                   0.00\n",
       "name                        0.00\n",
       "homepage_url                5.34\n",
       "category_list               2.97\n",
       "status                      0.00\n",
       "country_code                7.55\n",
       "state_code                  9.52\n",
       "region                      8.84\n",
       "city                        8.84\n",
       "founded_at                 17.85\n",
       "dtype: float64"
      ]
     },
     "execution_count": 10,
     "metadata": {},
     "output_type": "execute_result"
    }
   ],
   "source": [
    "master_frame[\"funding_round_type\"] = master_frame[\"funding_round_type\"].str.lower()\n",
    "round(100 * (master_frame.isnull().sum() / len(master_frame)), 2)"
   ]
  },
  {
   "cell_type": "markdown",
   "metadata": {},
   "source": [
    "We can here clearly see that \"raised_amount_usd\", \"category_list\", \"country_code\" columns have missing values.\n",
    "\n",
    "Handling missing values for \"raised_amount_usd\":\n",
    "One of the important factor \"raised_amount_usd\" is dependent on is the type of investment (seed, angel, venture, ...)\n",
    "\n",
    "Categorizing the total data into seperate investment types for better analysis. And the four funding types that Spark firm is interested in are the seed, angel, venture and private_equity."
   ]
  },
  {
   "cell_type": "code",
   "execution_count": 11,
   "metadata": {},
   "outputs": [],
   "source": [
    "seed_FT = master_frame[master_frame[\"funding_round_type\"] == \"seed\"]\n",
    "angel_FT = master_frame[master_frame[\"funding_round_type\"] == \"angel\"]\n",
    "venture_FT = master_frame[master_frame[\"funding_round_type\"] == \"venture\"]\n",
    "private_FT = master_frame[master_frame[\"funding_round_type\"] == \"private_equity\"]"
   ]
  },
  {
   "cell_type": "code",
   "execution_count": 12,
   "metadata": {},
   "outputs": [],
   "source": [
    "# Calculating the skewness\n",
    "\n",
    "seed_skew = seed_FT.skew(axis = 0, skipna = True)\n",
    "angel_skew = angel_FT.skew(axis = 0, skipna = True)\n",
    "venture_skew = venture_FT.skew(axis = 0, skipna = True)\n",
    "private_equity_skew = private_FT.skew(axis = 0, skipna = True)"
   ]
  },
  {
   "cell_type": "code",
   "execution_count": 13,
   "metadata": {},
   "outputs": [
    {
     "data": {
      "image/png": "[encoded data removed]",
      "text/plain": [
       "<Figure size 1080x576 with 1 Axes>"
      ]
     },
     "metadata": {
      "needs_background": "light"
     },
     "output_type": "display_data"
    }
   ],
   "source": [
    "# Plotting skewness among the four FTs\n",
    "\n",
    "plt.figure(figsize = (15,8))\n",
    "bars = (\"seed\", \"angel\", \"venture\", \"private_equity\")\n",
    "y_pos = np.arange(len(bars))\n",
    "plt.bar(y_pos, [seed_skew[0], angel_skew[0], venture_skew[0], private_equity_skew[0]])\n",
    "plt.xticks(y_pos, bars)\n",
    "plt.title(\"Skewness of the four funding types\")\n",
    "plt.xlabel(\"Funding types\")\n",
    "plt.ylabel(\"Skewness\")\n",
    "plt.show()"
   ]
  },
  {
   "cell_type": "code",
   "execution_count": 14,
   "metadata": {},
   "outputs": [
    {
     "data": {
      "image/png": "[encoded data removed]",
      "text/plain": [
       "<Figure size 1080x576 with 1 Axes>"
      ]
     },
     "metadata": {
      "needs_background": "light"
     },
     "output_type": "display_data"
    }
   ],
   "source": [
    "# Distribution of all FTs\n",
    "\n",
    "plt.figure(figsize = (15,8))\n",
    "sns.boxplot(master_frame[\"raised_amount_usd\"], master_frame[\"funding_round_type\"])\n",
    "plt.xscale(\"log\")\n",
    "plt.title(\"Distribution of all funding types\")\n",
    "plt.xlabel(\"Money raised in funding (USD) - in logarithmic expression\")\n",
    "plt.ylabel(\"Funding types\")\n",
    "plt.show()"
   ]
  },
  {
   "cell_type": "code",
   "execution_count": 15,
   "metadata": {},
   "outputs": [
    {
     "data": {
      "image/png": "[encoded data removed]",
      "text/plain": [
       "<Figure size 1080x576 with 1 Axes>"
      ]
     },
     "metadata": {
      "needs_background": "light"
     },
     "output_type": "display_data"
    }
   ],
   "source": [
    "# Distribution of the 4 FTs\n",
    "\n",
    "plt.figure(figsize = (15,8))\n",
    "plotting_frame = master_frame[master_frame[\"funding_round_type\"].isin([\"seed\", \"angel\", \"venture\", \"private_equity\"])]\n",
    "sns.boxplot(plotting_frame[\"raised_amount_usd\"], plotting_frame[\"funding_round_type\"])\n",
    "plt.xscale(\"log\")\n",
    "plt.title(\"Distribution of the four funding types\")\n",
    "plt.xlabel(\"Money raised in funding (USD) - in logarithmic expression\")\n",
    "plt.ylabel(\"Funding types\")\n",
    "plt.show()"
   ]
  },
  {
   "cell_type": "markdown",
   "metadata": {},
   "source": [
    "As we can see there are a lot of outliers for each distribution and \"raised_amount_usd\" is an important feature to be considered, but with 17.39% of missing values. Hence dropping off the rows with missing values of \"raised_amount_usd\"."
   ]
  },
  {
   "cell_type": "code",
   "execution_count": 16,
   "metadata": {},
   "outputs": [],
   "source": [
    "master_frame = master_frame[ ~ master_frame[\"raised_amount_usd\"].isnull()]"
   ]
  },
  {
   "cell_type": "markdown",
   "metadata": {},
   "source": [
    "\"category_list\" and \"country_code\" have a less percentage of missing values when compared to others, and no dependent feature. As they are categorical features, replacing the NaN values with their mode. And dropping off the rows with missing values of \"category_list\" and \"country_code\"."
   ]
  },
  {
   "cell_type": "code",
   "execution_count": 17,
   "metadata": {},
   "outputs": [],
   "source": [
    "master_frame[\"category_list\"].fillna(master_frame[\"category_list\"].mode(dropna = True), inplace = True)\n",
    "master_frame = master_frame[ ~ master_frame[\"category_list\"].isnull()]\n",
    "\n",
    "master_frame[\"country_code\"].fillna(master_frame[\"country_code\"].mode(dropna = True), inplace = True)\n",
    "master_frame = master_frame[ ~ master_frame[\"country_code\"].isnull()]"
   ]
  },
  {
   "cell_type": "code",
   "execution_count": 18,
   "metadata": {},
   "outputs": [
    {
     "data": {
      "text/html": [
       "<div>\n",
       "<style scoped>\n",
       "    .dataframe tbody tr th:only-of-type {\n",
       "        vertical-align: middle;\n",
       "    }\n",
       "\n",
       "    .dataframe tbody tr th {\n",
       "        vertical-align: top;\n",
       "    }\n",
       "\n",
       "    .dataframe thead th {\n",
       "        text-align: right;\n",
       "    }\n",
       "</style>\n",
       "<table border=\"1\" class=\"dataframe\">\n",
       "  <thead>\n",
       "    <tr style=\"text-align: right;\">\n",
       "      <th></th>\n",
       "      <th>company_permalink</th>\n",
       "      <th>funding_round_permalink</th>\n",
       "      <th>funding_round_type</th>\n",
       "      <th>funding_round_code</th>\n",
       "      <th>funded_at</th>\n",
       "      <th>raised_amount_usd</th>\n",
       "      <th>permalink</th>\n",
       "      <th>name</th>\n",
       "      <th>homepage_url</th>\n",
       "      <th>category_list</th>\n",
       "      <th>status</th>\n",
       "      <th>country_code</th>\n",
       "      <th>state_code</th>\n",
       "      <th>region</th>\n",
       "      <th>city</th>\n",
       "      <th>founded_at</th>\n",
       "    </tr>\n",
       "  </thead>\n",
       "  <tbody>\n",
       "    <tr>\n",
       "      <td>0</td>\n",
       "      <td>/organization/-fame</td>\n",
       "      <td>/funding-round/9a01d05418af9f794eebff7ace91f638</td>\n",
       "      <td>venture</td>\n",
       "      <td>B</td>\n",
       "      <td>05-01-2015</td>\n",
       "      <td>10.00000</td>\n",
       "      <td>/organization/-fame</td>\n",
       "      <td>#fame</td>\n",
       "      <td>http://livfame.com</td>\n",
       "      <td>Media</td>\n",
       "      <td>operating</td>\n",
       "      <td>IND</td>\n",
       "      <td>16</td>\n",
       "      <td>Mumbai</td>\n",
       "      <td>Mumbai</td>\n",
       "      <td>NaN</td>\n",
       "    </tr>\n",
       "    <tr>\n",
       "      <td>2</td>\n",
       "      <td>/organization/-qounter</td>\n",
       "      <td>/funding-round/b44fbb94153f6cdef13083530bb48030</td>\n",
       "      <td>seed</td>\n",
       "      <td>NaN</td>\n",
       "      <td>01-03-2014</td>\n",
       "      <td>0.70000</td>\n",
       "      <td>/organization/-qounter</td>\n",
       "      <td>:Qounter</td>\n",
       "      <td>http://www.qounter.com</td>\n",
       "      <td>Application Platforms|Real Time|Social Network...</td>\n",
       "      <td>operating</td>\n",
       "      <td>USA</td>\n",
       "      <td>DE</td>\n",
       "      <td>DE - Other</td>\n",
       "      <td>Delaware City</td>\n",
       "      <td>04-09-2014</td>\n",
       "    </tr>\n",
       "    <tr>\n",
       "      <td>4</td>\n",
       "      <td>/organization/0-6-com</td>\n",
       "      <td>/funding-round/5727accaeaa57461bd22a9bdd945382d</td>\n",
       "      <td>venture</td>\n",
       "      <td>A</td>\n",
       "      <td>19-03-2008</td>\n",
       "      <td>2.00000</td>\n",
       "      <td>/organization/0-6-com</td>\n",
       "      <td>0-6.com</td>\n",
       "      <td>http://www.0-6.com</td>\n",
       "      <td>Curated Web</td>\n",
       "      <td>operating</td>\n",
       "      <td>CHN</td>\n",
       "      <td>22</td>\n",
       "      <td>Beijing</td>\n",
       "      <td>Beijing</td>\n",
       "      <td>01-01-2007</td>\n",
       "    </tr>\n",
       "    <tr>\n",
       "      <td>6</td>\n",
       "      <td>/organization/01games-technology</td>\n",
       "      <td>/funding-round/7d53696f2b4f607a2f2a8cbb83d01839</td>\n",
       "      <td>undisclosed</td>\n",
       "      <td>NaN</td>\n",
       "      <td>01-07-2014</td>\n",
       "      <td>0.04125</td>\n",
       "      <td>/organization/01games-technology</td>\n",
       "      <td>01Games Technology</td>\n",
       "      <td>http://www.01games.hk/</td>\n",
       "      <td>Games</td>\n",
       "      <td>operating</td>\n",
       "      <td>HKG</td>\n",
       "      <td>NaN</td>\n",
       "      <td>Hong Kong</td>\n",
       "      <td>Hong Kong</td>\n",
       "      <td>NaN</td>\n",
       "    </tr>\n",
       "    <tr>\n",
       "      <td>7</td>\n",
       "      <td>/organization/0ndine-biomedical-inc</td>\n",
       "      <td>/funding-round/2b9d3ac293d5cdccbecff5c8cb0f327d</td>\n",
       "      <td>seed</td>\n",
       "      <td>NaN</td>\n",
       "      <td>11-09-2009</td>\n",
       "      <td>0.04336</td>\n",
       "      <td>/organization/0ndine-biomedical-inc</td>\n",
       "      <td>Ondine Biomedical Inc.</td>\n",
       "      <td>http://ondinebio.com</td>\n",
       "      <td>Biotechnology</td>\n",
       "      <td>operating</td>\n",
       "      <td>CAN</td>\n",
       "      <td>BC</td>\n",
       "      <td>Vancouver</td>\n",
       "      <td>Vancouver</td>\n",
       "      <td>01-01-1997</td>\n",
       "    </tr>\n",
       "  </tbody>\n",
       "</table>\n",
       "</div>"
      ],
      "text/plain": [
       "                     company_permalink  \\\n",
       "0                  /organization/-fame   \n",
       "2               /organization/-qounter   \n",
       "4                /organization/0-6-com   \n",
       "6     /organization/01games-technology   \n",
       "7  /organization/0ndine-biomedical-inc   \n",
       "\n",
       "                           funding_round_permalink funding_round_type  \\\n",
       "0  /funding-round/9a01d05418af9f794eebff7ace91f638            venture   \n",
       "2  /funding-round/b44fbb94153f6cdef13083530bb48030               seed   \n",
       "4  /funding-round/5727accaeaa57461bd22a9bdd945382d            venture   \n",
       "6  /funding-round/7d53696f2b4f607a2f2a8cbb83d01839        undisclosed   \n",
       "7  /funding-round/2b9d3ac293d5cdccbecff5c8cb0f327d               seed   \n",
       "\n",
       "  funding_round_code   funded_at  raised_amount_usd  \\\n",
       "0                  B  05-01-2015           10.00000   \n",
       "2                NaN  01-03-2014            0.70000   \n",
       "4                  A  19-03-2008            2.00000   \n",
       "6                NaN  01-07-2014            0.04125   \n",
       "7                NaN  11-09-2009            0.04336   \n",
       "\n",
       "                             permalink                    name  \\\n",
       "0                  /organization/-fame                   #fame   \n",
       "2               /organization/-qounter                :Qounter   \n",
       "4                /organization/0-6-com                 0-6.com   \n",
       "6     /organization/01games-technology      01Games Technology   \n",
       "7  /organization/0ndine-biomedical-inc  Ondine Biomedical Inc.   \n",
       "\n",
       "             homepage_url                                      category_list  \\\n",
       "0      http://livfame.com                                              Media   \n",
       "2  http://www.qounter.com  Application Platforms|Real Time|Social Network...   \n",
       "4      http://www.0-6.com                                        Curated Web   \n",
       "6  http://www.01games.hk/                                              Games   \n",
       "7    http://ondinebio.com                                      Biotechnology   \n",
       "\n",
       "      status country_code state_code      region           city  founded_at  \n",
       "0  operating          IND         16      Mumbai         Mumbai         NaN  \n",
       "2  operating          USA         DE  DE - Other  Delaware City  04-09-2014  \n",
       "4  operating          CHN         22     Beijing        Beijing  01-01-2007  \n",
       "6  operating          HKG        NaN   Hong Kong      Hong Kong         NaN  \n",
       "7  operating          CAN         BC   Vancouver      Vancouver  01-01-1997  "
      ]
     },
     "execution_count": 18,
     "metadata": {},
     "output_type": "execute_result"
    }
   ],
   "source": [
    "# Maintaining an original copy of master_frame\n",
    "\n",
    "original_master_frame = master_frame.copy()\n",
    "original_master_frame[\"raised_amount_usd\"] = original_master_frame[\"raised_amount_usd\"] / 1000000\n",
    "original_master_frame.head(5)"
   ]
  },
  {
   "cell_type": "markdown",
   "metadata": {},
   "source": [
    "Dropping redundanct/uneccessary columns from the master_frame.\n",
    "\n",
    "For our analysis we require:\n",
    " - company_permalink\n",
    " - funding_round_type\n",
    " - raised_amount_usd\n",
    " - name\n",
    " - category_list\n",
    " - country_code"
   ]
  },
  {
   "cell_type": "code",
   "execution_count": 19,
   "metadata": {},
   "outputs": [
    {
     "data": {
      "text/html": [
       "<div>\n",
       "<style scoped>\n",
       "    .dataframe tbody tr th:only-of-type {\n",
       "        vertical-align: middle;\n",
       "    }\n",
       "\n",
       "    .dataframe tbody tr th {\n",
       "        vertical-align: top;\n",
       "    }\n",
       "\n",
       "    .dataframe thead th {\n",
       "        text-align: right;\n",
       "    }\n",
       "</style>\n",
       "<table border=\"1\" class=\"dataframe\">\n",
       "  <thead>\n",
       "    <tr style=\"text-align: right;\">\n",
       "      <th></th>\n",
       "      <th>company_permalink</th>\n",
       "      <th>funding_round_type</th>\n",
       "      <th>raised_amount_usd</th>\n",
       "      <th>name</th>\n",
       "      <th>category_list</th>\n",
       "      <th>country_code</th>\n",
       "    </tr>\n",
       "  </thead>\n",
       "  <tbody>\n",
       "    <tr>\n",
       "      <td>0</td>\n",
       "      <td>/organization/-fame</td>\n",
       "      <td>venture</td>\n",
       "      <td>10000000.0</td>\n",
       "      <td>#fame</td>\n",
       "      <td>Media</td>\n",
       "      <td>IND</td>\n",
       "    </tr>\n",
       "    <tr>\n",
       "      <td>2</td>\n",
       "      <td>/organization/-qounter</td>\n",
       "      <td>seed</td>\n",
       "      <td>700000.0</td>\n",
       "      <td>:Qounter</td>\n",
       "      <td>Application Platforms|Real Time|Social Network...</td>\n",
       "      <td>USA</td>\n",
       "    </tr>\n",
       "    <tr>\n",
       "      <td>4</td>\n",
       "      <td>/organization/0-6-com</td>\n",
       "      <td>venture</td>\n",
       "      <td>2000000.0</td>\n",
       "      <td>0-6.com</td>\n",
       "      <td>Curated Web</td>\n",
       "      <td>CHN</td>\n",
       "    </tr>\n",
       "    <tr>\n",
       "      <td>6</td>\n",
       "      <td>/organization/01games-technology</td>\n",
       "      <td>undisclosed</td>\n",
       "      <td>41250.0</td>\n",
       "      <td>01Games Technology</td>\n",
       "      <td>Games</td>\n",
       "      <td>HKG</td>\n",
       "    </tr>\n",
       "    <tr>\n",
       "      <td>7</td>\n",
       "      <td>/organization/0ndine-biomedical-inc</td>\n",
       "      <td>seed</td>\n",
       "      <td>43360.0</td>\n",
       "      <td>Ondine Biomedical Inc.</td>\n",
       "      <td>Biotechnology</td>\n",
       "      <td>CAN</td>\n",
       "    </tr>\n",
       "  </tbody>\n",
       "</table>\n",
       "</div>"
      ],
      "text/plain": [
       "                     company_permalink funding_round_type  raised_amount_usd  \\\n",
       "0                  /organization/-fame            venture         10000000.0   \n",
       "2               /organization/-qounter               seed           700000.0   \n",
       "4                /organization/0-6-com            venture          2000000.0   \n",
       "6     /organization/01games-technology        undisclosed            41250.0   \n",
       "7  /organization/0ndine-biomedical-inc               seed            43360.0   \n",
       "\n",
       "                     name                                      category_list  \\\n",
       "0                   #fame                                              Media   \n",
       "2                :Qounter  Application Platforms|Real Time|Social Network...   \n",
       "4                 0-6.com                                        Curated Web   \n",
       "6      01Games Technology                                              Games   \n",
       "7  Ondine Biomedical Inc.                                      Biotechnology   \n",
       "\n",
       "  country_code  \n",
       "0          IND  \n",
       "2          USA  \n",
       "4          CHN  \n",
       "6          HKG  \n",
       "7          CAN  "
      ]
     },
     "execution_count": 19,
     "metadata": {},
     "output_type": "execute_result"
    }
   ],
   "source": [
    "# Dataset Cleaning\n",
    "\n",
    "master_frame = master_frame.drop([\"funding_round_permalink\", \"funding_round_code\", \"funded_at\", \"permalink\", \"homepage_url\", \"status\", \"state_code\", \"region\", \"city\", \"founded_at\"], axis = 1)\n",
    "master_frame.head(5)"
   ]
  },
  {
   "cell_type": "code",
   "execution_count": 20,
   "metadata": {},
   "outputs": [
    {
     "data": {
      "text/plain": [
       "company_permalink     0.0\n",
       "funding_round_type    0.0\n",
       "raised_amount_usd     0.0\n",
       "name                  0.0\n",
       "category_list         0.0\n",
       "country_code          0.0\n",
       "dtype: float64"
      ]
     },
     "execution_count": 20,
     "metadata": {},
     "output_type": "execute_result"
    }
   ],
   "source": [
    "round(100 * (master_frame.isnull().sum() / len(master_frame)), 2)"
   ]
  },
  {
   "cell_type": "markdown",
   "metadata": {},
   "source": [
    "Now all the features have 0 missing values."
   ]
  },
  {
   "cell_type": "markdown",
   "metadata": {},
   "source": [
    "Considering the constraints Spark Funds wants to choose one of these four investment types for each potential investment they will make.\n",
    "\n",
    " - Calculate the most representative value of the investment amount for each of the four funding types (venture, angel, seed, and private equity)\n",
    " - Based on the most representative investment amount calculated above, which investment type do you think is the most suitable for Spark Funds?"
   ]
  },
  {
   "cell_type": "code",
   "execution_count": 21,
   "metadata": {},
   "outputs": [],
   "source": [
    "# Filtering the master_frame with only 4 funding types and fractioning the \"raised_amount_usd\" for better graphical representation\n",
    "\n",
    "master_frame = master_frame[master_frame[\"funding_round_type\"].isin([\"seed\", \"angel\", \"venture\", \"private_equity\"])]\n",
    "master_frame[\"raised_amount_usd\"] = master_frame[\"raised_amount_usd\"] / 1000000"
   ]
  },
  {
   "cell_type": "code",
   "execution_count": 22,
   "metadata": {},
   "outputs": [
    {
     "data": {
      "image/png": "[encoded data removed]",
      "text/plain": [
       "<Figure size 1080x576 with 2 Axes>"
      ]
     },
     "metadata": {
      "needs_background": "light"
     },
     "output_type": "display_data"
    }
   ],
   "source": [
    "# Comparing the 4 funding type investments\n",
    "\n",
    "plt.figure(figsize = (15,8))\n",
    "plt.subplot(1, 2, 1)\n",
    "sns.countplot(master_frame[\"funding_round_type\"])\n",
    "plt.title(\"Number of investments in all four funding types\")\n",
    "plt.xlabel(\"Funding type\")\n",
    "plt.ylabel(\"Number of investments\")\n",
    "\n",
    "plt.subplot(1, 2, 2)\n",
    "investment_types_count = master_frame[\"funding_round_type\"].value_counts()\n",
    "plt.pie(investment_types_count.values, labels = investment_types_count.index)\n",
    "plt.title(\"Total number of Investments\")\n",
    "plt.show()"
   ]
  },
  {
   "cell_type": "markdown",
   "metadata": {},
   "source": [
    "It is clearly visible that the \"venture\" funding type is the most common funding type among the four investment types. Spark Funds wants to invest where most other investors are investing. This pattern is often observed among early stage startup investors"
   ]
  },
  {
   "cell_type": "markdown",
   "metadata": {},
   "source": [
    "Choosing the most representative value of the investment amount - As this is numerical feature, let us consider the averages such as mean and median."
   ]
  },
  {
   "cell_type": "code",
   "execution_count": 23,
   "metadata": {},
   "outputs": [
    {
     "data": {
      "image/png": "[encoded data removed]",
      "text/plain": [
       "<Figure size 1440x576 with 2 Axes>"
      ]
     },
     "metadata": {
      "needs_background": "light"
     },
     "output_type": "display_data"
    }
   ],
   "source": [
    "# Plotting averages\n",
    "\n",
    "plt.figure(figsize = (20,8))\n",
    "plt.subplot(1, 2, 1)\n",
    "sns.barplot(master_frame[\"funding_round_type\"], master_frame[\"raised_amount_usd\"], estimator = np.mean)\n",
    "plt.axhline(y = 5, color = \"red\", linewidth = 1)\n",
    "plt.axhline(y = 15, color = \"red\", linewidth = 1)\n",
    "plt.title(\"Distribution among the four investment types with central tendency as mean\")\n",
    "plt.xlabel(\"Funding Types\")\n",
    "plt.ylabel(\"Money raised in funding (USD)\")\n",
    "\n",
    "plt.subplot(1, 2, 2)\n",
    "sns.barplot(master_frame[\"funding_round_type\"], master_frame[\"raised_amount_usd\"], estimator = np.median)\n",
    "plt.axhline(y = 5, color = \"red\", linewidth = 1)\n",
    "plt.axhline(y = 15, color = \"red\", linewidth = 1)\n",
    "plt.title(\"Distribution among the four investment types with central tendency as median\")\n",
    "plt.xlabel(\"Funding Types\")\n",
    "plt.ylabel(\"Money raised in funding (USD)\")\n",
    "plt.show()"
   ]
  },
  {
   "cell_type": "markdown",
   "metadata": {},
   "source": [
    "### Clearly, from the above plots we can conclude that \"venture\" funding type is the most common investment type and the most representative value of investment amount is the \"mean\". With the combination of these both, we can see that the range falls between 5 to 15 million USD amounts."
   ]
  },
  {
   "cell_type": "code",
   "execution_count": 24,
   "metadata": {},
   "outputs": [],
   "source": [
    "# Storing the data for plots (checkpoint 6)\n",
    "\n",
    "plots_frame = master_frame.copy()"
   ]
  },
  {
   "cell_type": "markdown",
   "metadata": {},
   "source": [
    "##  Average Values of Investments for Each of these Funding Types"
   ]
  },
  {
   "cell_type": "markdown",
   "metadata": {},
   "source": [
    " - Average funding amount of **venture** type - 11.72 million USD "
   ]
  },
  {
   "cell_type": "code",
   "execution_count": 25,
   "metadata": {},
   "outputs": [
    {
     "data": {
      "text/plain": [
       "11.72"
      ]
     },
     "execution_count": 25,
     "metadata": {},
     "output_type": "execute_result"
    }
   ],
   "source": [
    "round(master_frame[master_frame[\"funding_round_type\"] == \"venture\"][\"raised_amount_usd\"].mean(), 2)"
   ]
  },
  {
   "cell_type": "markdown",
   "metadata": {},
   "source": [
    " - Average funding amount of **angel** type - 0.97 million USD"
   ]
  },
  {
   "cell_type": "code",
   "execution_count": 26,
   "metadata": {},
   "outputs": [
    {
     "data": {
      "text/plain": [
       "0.97"
      ]
     },
     "execution_count": 26,
     "metadata": {},
     "output_type": "execute_result"
    }
   ],
   "source": [
    "round(master_frame[master_frame[\"funding_round_type\"] == \"angel\"][\"raised_amount_usd\"].mean(), 2)"
   ]
  },
  {
   "cell_type": "markdown",
   "metadata": {},
   "source": [
    " - Average funding amount of **seed** type - 0.75 million USD"
   ]
  },
  {
   "cell_type": "code",
   "execution_count": 27,
   "metadata": {},
   "outputs": [
    {
     "data": {
      "text/plain": [
       "0.75"
      ]
     },
     "execution_count": 27,
     "metadata": {},
     "output_type": "execute_result"
    }
   ],
   "source": [
    "round(master_frame[master_frame[\"funding_round_type\"] == \"seed\"][\"raised_amount_usd\"].mean(), 2)"
   ]
  },
  {
   "cell_type": "markdown",
   "metadata": {},
   "source": [
    " - Average funding amount of **private equity** type - 73.94 million USD"
   ]
  },
  {
   "cell_type": "code",
   "execution_count": 28,
   "metadata": {},
   "outputs": [
    {
     "data": {
      "text/plain": [
       "73.94"
      ]
     },
     "execution_count": 28,
     "metadata": {},
     "output_type": "execute_result"
    }
   ],
   "source": [
    "round(master_frame[master_frame[\"funding_round_type\"] == \"private_equity\"][\"raised_amount_usd\"].mean(), 2)"
   ]
  },
  {
   "cell_type": "markdown",
   "metadata": {},
   "source": [
    " - Considering that Spark Funds wants to invest between **5 to 15 million USD** per  investment round, which investment type is the most suitable for them? - venture"
   ]
  },
  {
   "cell_type": "code",
   "execution_count": 29,
   "metadata": {},
   "outputs": [],
   "source": [
    "# Filtering out only \"venture\" type funds\n",
    "\n",
    "master_frame = master_frame[master_frame[\"funding_round_type\"].isin([\"venture\"])]"
   ]
  },
  {
   "cell_type": "markdown",
   "metadata": {},
   "source": [
    "## Checkpoint 3 - Country Analysis\n",
    "Spark Funds wants to invest in countries with the highest amount of funding for the chosen investment type. This is a part of its broader strategy to invest where **most investments are occurring.**"
   ]
  },
  {
   "cell_type": "code",
   "execution_count": 30,
   "metadata": {},
   "outputs": [],
   "source": [
    "# Getting top 9 countries with highest number of investments and highest investment amounts.\n",
    "\n",
    "top9_counts = master_frame.groupby(\"country_code\")[\"raised_amount_usd\"].count().sort_values(ascending = False).head(9).to_frame()\n",
    "\n",
    "top9_amounts = master_frame.groupby(\"country_code\")[\"raised_amount_usd\"].sum().sort_values(ascending = False).head(9).to_frame()\n",
    "top9_countries = top9_amounts.index.values\n",
    "\n",
    "top9 = master_frame[master_frame[\"country_code\"].isin(top9_countries)]"
   ]
  },
  {
   "cell_type": "code",
   "execution_count": 31,
   "metadata": {},
   "outputs": [
    {
     "data": {
      "text/plain": [
       "country_code\n",
       "USA    420068.029342\n",
       "CHN     39338.918773\n",
       "GBR     20072.813004\n",
       "IND     14261.508718\n",
       "CAN      9482.217668\n",
       "FRA      7226.851352\n",
       "ISR      6854.350477\n",
       "DEU      6306.921981\n",
       "JPN      3167.647127\n",
       "Name: raised_amount_usd, dtype: float64"
      ]
     },
     "execution_count": 31,
     "metadata": {},
     "output_type": "execute_result"
    }
   ],
   "source": [
    "# Top 9 countries which have received the highest total funding\n",
    "\n",
    "top9.groupby(\"country_code\")[\"raised_amount_usd\"].sum().sort_values(ascending = False)"
   ]
  },
  {
   "cell_type": "code",
   "execution_count": 32,
   "metadata": {},
   "outputs": [
    {
     "data": {
      "image/png": "[encoded data removed]",
      "text/plain": [
       "<Figure size 1080x576 with 2 Axes>"
      ]
     },
     "metadata": {
      "needs_background": "light"
     },
     "output_type": "display_data"
    }
   ],
   "source": [
    "# Plotting the top 9 countries amounts and number of investments\n",
    "\n",
    "plt.figure(figsize = (15,8))\n",
    "plt.subplot(1, 2, 1)\n",
    "sns.barplot(top9[\"country_code\"], top9[\"raised_amount_usd\"], estimator = sum)\n",
    "plt.title(\"Top nine countries which have received the highest total funding\")\n",
    "plt.xlabel(\"Countries\")\n",
    "plt.ylabel(\"Money raised in funding (USD)\")\n",
    "\n",
    "plt.subplot(1, 2, 2)\n",
    "sns.countplot(top9[\"country_code\"])\n",
    "plt.title(\"Total number of investments per country\")\n",
    "plt.xlabel(\"Countries\")\n",
    "plt.ylabel(\"Number of investments\")\n",
    "plt.show()"
   ]
  },
  {
   "cell_type": "markdown",
   "metadata": {},
   "source": [
    "### From the plot above we can conclude that USA, BGR, IND are the three top english speaking countries (which have english as their official language - picking manually) because Spark Fund wants to only invest in english speaking countries.\n",
    "\n",
    "USA being the top most invested country."
   ]
  },
  {
   "cell_type": "markdown",
   "metadata": {},
   "source": [
    "## Analysing the Top 3 English-Speaking Countries\n",
    " - Top English speaking country - United States (USA)\n",
    " - Second English speaking country - United Kingdom (GBR)\n",
    " - Third English speaking country - India (IND)"
   ]
  },
  {
   "cell_type": "code",
   "execution_count": 33,
   "metadata": {},
   "outputs": [
    {
     "data": {
      "image/png": "[encoded data removed]",
      "text/plain": [
       "<Figure size 1080x576 with 2 Axes>"
      ]
     },
     "metadata": {
      "needs_background": "light"
     },
     "output_type": "display_data"
    }
   ],
   "source": [
    "# Plotting the top 3 countries amounts and number of investments\n",
    "\n",
    "top3 = top9[top9[\"country_code\"].isin([\"USA\", \"GBR\", \"IND\"])]\n",
    "\n",
    "plt.figure(figsize =( 15,8))\n",
    "plt.subplot(1, 2, 1)\n",
    "sns.barplot(top3[\"country_code\"], top3[\"raised_amount_usd\"], estimator = sum)\n",
    "plt.title(\"Top three countries which have received the highest total funding\")\n",
    "plt.xlabel(\"Countries\")\n",
    "plt.ylabel(\"Money raised in funding (USD)\")\n",
    "\n",
    "plt.subplot(1, 2, 2)\n",
    "sns.countplot(top3[\"country_code\"])\n",
    "plt.title(\"Total number of investments for the top three country\")\n",
    "plt.xlabel(\"Countries\")\n",
    "plt.ylabel(\"Number of investments\")\n",
    "plt.show()"
   ]
  },
  {
   "cell_type": "code",
   "execution_count": 34,
   "metadata": {},
   "outputs": [],
   "source": [
    "# Filtering out the top 3 countries\n",
    "\n",
    "master_frame = master_frame[master_frame[\"country_code\"].isin([\"USA\", \"GBR\", \"IND\"])]"
   ]
  },
  {
   "cell_type": "markdown",
   "metadata": {},
   "source": [
    "## Checkpoint 4: Sector Analysis 1\n",
    "\n",
    "Sector Analysis refers to one of the eight main resources (named main_sector) listed in the mapping file (note that 'Others' is one of the eight main sectors). For example, in the mapping file, category_lists such as '3D', '3D Printing' ,'3D Technology', etc... are mapped to the main sector 'Manufacturing'.\n"
   ]
  },
  {
   "cell_type": "markdown",
   "metadata": {},
   "source": [
    " - Extract the primary sector of each category list from the category_list column\n",
    "For some companies, the category list is a list of multiple sub-sectors separated by a pipe (vertical bar |). For example, one of the companies’ category_list is Application Platforms|Real Time|Social Network Media.\n",
    "\n",
    "Business rule is that the first string before the vertical bar will be considered the primary sector. In the example above, ‘Application Platforms’ will be considered the primary sector."
   ]
  },
  {
   "cell_type": "code",
   "execution_count": 35,
   "metadata": {},
   "outputs": [],
   "source": [
    "original_master_frame[\"primary_sector\"] = math.nan\n",
    "original_master_frame[\"primary_sector\"] = original_master_frame[\"category_list\"].str.split(\"|\", expand = True)\n",
    "original_master_frame[\"primary_sector\"] = original_master_frame[\"primary_sector\"].str.lower()"
   ]
  },
  {
   "cell_type": "markdown",
   "metadata": {},
   "source": [
    " - Use the mapping file 'mapping.csv' to map each primary sector to one of the eight main sectors (Note that ‘Others’ is also considered one of the main sectors)"
   ]
  },
  {
   "cell_type": "code",
   "execution_count": 36,
   "metadata": {},
   "outputs": [
    {
     "data": {
      "text/html": [
       "<div>\n",
       "<style scoped>\n",
       "    .dataframe tbody tr th:only-of-type {\n",
       "        vertical-align: middle;\n",
       "    }\n",
       "\n",
       "    .dataframe tbody tr th {\n",
       "        vertical-align: top;\n",
       "    }\n",
       "\n",
       "    .dataframe thead th {\n",
       "        text-align: right;\n",
       "    }\n",
       "</style>\n",
       "<table border=\"1\" class=\"dataframe\">\n",
       "  <thead>\n",
       "    <tr style=\"text-align: right;\">\n",
       "      <th></th>\n",
       "      <th>category_list</th>\n",
       "      <th>Automotive &amp; Sports</th>\n",
       "      <th>Blanks</th>\n",
       "      <th>Cleantech / Semiconductors</th>\n",
       "      <th>Entertainment</th>\n",
       "      <th>Health</th>\n",
       "      <th>Manufacturing</th>\n",
       "      <th>News, Search and Messaging</th>\n",
       "      <th>Others</th>\n",
       "      <th>Social, Finance, Analytics, Advertising</th>\n",
       "    </tr>\n",
       "  </thead>\n",
       "  <tbody>\n",
       "    <tr>\n",
       "      <td>0</td>\n",
       "      <td>NaN</td>\n",
       "      <td>0</td>\n",
       "      <td>1</td>\n",
       "      <td>0</td>\n",
       "      <td>0</td>\n",
       "      <td>0</td>\n",
       "      <td>0</td>\n",
       "      <td>0</td>\n",
       "      <td>0</td>\n",
       "      <td>0</td>\n",
       "    </tr>\n",
       "    <tr>\n",
       "      <td>1</td>\n",
       "      <td>3D</td>\n",
       "      <td>0</td>\n",
       "      <td>0</td>\n",
       "      <td>0</td>\n",
       "      <td>0</td>\n",
       "      <td>0</td>\n",
       "      <td>1</td>\n",
       "      <td>0</td>\n",
       "      <td>0</td>\n",
       "      <td>0</td>\n",
       "    </tr>\n",
       "    <tr>\n",
       "      <td>2</td>\n",
       "      <td>3D Printing</td>\n",
       "      <td>0</td>\n",
       "      <td>0</td>\n",
       "      <td>0</td>\n",
       "      <td>0</td>\n",
       "      <td>0</td>\n",
       "      <td>1</td>\n",
       "      <td>0</td>\n",
       "      <td>0</td>\n",
       "      <td>0</td>\n",
       "    </tr>\n",
       "    <tr>\n",
       "      <td>3</td>\n",
       "      <td>3D Technology</td>\n",
       "      <td>0</td>\n",
       "      <td>0</td>\n",
       "      <td>0</td>\n",
       "      <td>0</td>\n",
       "      <td>0</td>\n",
       "      <td>1</td>\n",
       "      <td>0</td>\n",
       "      <td>0</td>\n",
       "      <td>0</td>\n",
       "    </tr>\n",
       "    <tr>\n",
       "      <td>4</td>\n",
       "      <td>Accounting</td>\n",
       "      <td>0</td>\n",
       "      <td>0</td>\n",
       "      <td>0</td>\n",
       "      <td>0</td>\n",
       "      <td>0</td>\n",
       "      <td>0</td>\n",
       "      <td>0</td>\n",
       "      <td>0</td>\n",
       "      <td>1</td>\n",
       "    </tr>\n",
       "  </tbody>\n",
       "</table>\n",
       "</div>"
      ],
      "text/plain": [
       "   category_list  Automotive & Sports  Blanks  Cleantech / Semiconductors  \\\n",
       "0            NaN                    0       1                           0   \n",
       "1             3D                    0       0                           0   \n",
       "2    3D Printing                    0       0                           0   \n",
       "3  3D Technology                    0       0                           0   \n",
       "4     Accounting                    0       0                           0   \n",
       "\n",
       "   Entertainment  Health  Manufacturing  News, Search and Messaging  Others  \\\n",
       "0              0       0              0                           0       0   \n",
       "1              0       0              1                           0       0   \n",
       "2              0       0              1                           0       0   \n",
       "3              0       0              1                           0       0   \n",
       "4              0       0              0                           0       0   \n",
       "\n",
       "   Social, Finance, Analytics, Advertising  \n",
       "0                                        0  \n",
       "1                                        0  \n",
       "2                                        0  \n",
       "3                                        0  \n",
       "4                                        1  "
      ]
     },
     "execution_count": 36,
     "metadata": {},
     "output_type": "execute_result"
    }
   ],
   "source": [
    "# Loading mappings\n",
    "\n",
    "mapping = pd.read_csv(path_var + \"mapping.csv\", encoding = \"ISO-8859-1\")\n",
    "mapping.head(5)"
   ]
  },
  {
   "cell_type": "code",
   "execution_count": 37,
   "metadata": {},
   "outputs": [
    {
     "data": {
      "text/plain": [
       "category_list                              0.15\n",
       "Automotive & Sports                        0.00\n",
       "Blanks                                     0.00\n",
       "Cleantech / Semiconductors                 0.00\n",
       "Entertainment                              0.00\n",
       "Health                                     0.00\n",
       "Manufacturing                              0.00\n",
       "News, Search and Messaging                 0.00\n",
       "Others                                     0.00\n",
       "Social, Finance, Analytics, Advertising    0.00\n",
       "dtype: float64"
      ]
     },
     "execution_count": 37,
     "metadata": {},
     "output_type": "execute_result"
    }
   ],
   "source": [
    "round(100 * (mapping.isnull().sum() / len(mapping)), 2)"
   ]
  },
  {
   "cell_type": "code",
   "execution_count": 38,
   "metadata": {},
   "outputs": [],
   "source": [
    "# Removing NaN values from category_list column\n",
    "\n",
    "mapping = mapping[ ~ mapping[\"category_list\"].isnull()]"
   ]
  },
  {
   "cell_type": "code",
   "execution_count": 39,
   "metadata": {},
   "outputs": [],
   "source": [
    "# Few of the entries have \"0\" instead of \"na\", so replacing them with \"na\"\n",
    "\n",
    "mapping[\"category_list\"] = mapping[\"category_list\"].replace({\"0\" : \"na\"}, regex = True)"
   ]
  },
  {
   "cell_type": "code",
   "execution_count": 40,
   "metadata": {},
   "outputs": [
    {
     "data": {
      "text/html": [
       "<div>\n",
       "<style scoped>\n",
       "    .dataframe tbody tr th:only-of-type {\n",
       "        vertical-align: middle;\n",
       "    }\n",
       "\n",
       "    .dataframe tbody tr th {\n",
       "        vertical-align: top;\n",
       "    }\n",
       "\n",
       "    .dataframe thead th {\n",
       "        text-align: right;\n",
       "    }\n",
       "</style>\n",
       "<table border=\"1\" class=\"dataframe\">\n",
       "  <thead>\n",
       "    <tr style=\"text-align: right;\">\n",
       "      <th></th>\n",
       "      <th>primary_sector</th>\n",
       "      <th>main_sector</th>\n",
       "    </tr>\n",
       "  </thead>\n",
       "  <tbody>\n",
       "    <tr>\n",
       "      <td>7</td>\n",
       "      <td>adventure travel</td>\n",
       "      <td>automotive &amp; sports</td>\n",
       "    </tr>\n",
       "    <tr>\n",
       "      <td>13</td>\n",
       "      <td>aerospace</td>\n",
       "      <td>automotive &amp; sports</td>\n",
       "    </tr>\n",
       "    <tr>\n",
       "      <td>44</td>\n",
       "      <td>auto</td>\n",
       "      <td>automotive &amp; sports</td>\n",
       "    </tr>\n",
       "    <tr>\n",
       "      <td>45</td>\n",
       "      <td>automated kiosk</td>\n",
       "      <td>automotive &amp; sports</td>\n",
       "    </tr>\n",
       "    <tr>\n",
       "      <td>46</td>\n",
       "      <td>automotive</td>\n",
       "      <td>automotive &amp; sports</td>\n",
       "    </tr>\n",
       "    <tr>\n",
       "      <td>56</td>\n",
       "      <td>bicycles</td>\n",
       "      <td>automotive &amp; sports</td>\n",
       "    </tr>\n",
       "    <tr>\n",
       "      <td>68</td>\n",
       "      <td>boating industry</td>\n",
       "      <td>automotive &amp; sports</td>\n",
       "    </tr>\n",
       "    <tr>\n",
       "      <td>86</td>\n",
       "      <td>cad</td>\n",
       "      <td>automotive &amp; sports</td>\n",
       "    </tr>\n",
       "    <tr>\n",
       "      <td>92</td>\n",
       "      <td>cars</td>\n",
       "      <td>automotive &amp; sports</td>\n",
       "    </tr>\n",
       "    <tr>\n",
       "      <td>187</td>\n",
       "      <td>design</td>\n",
       "      <td>automotive &amp; sports</td>\n",
       "    </tr>\n",
       "  </tbody>\n",
       "</table>\n",
       "</div>"
      ],
      "text/plain": [
       "       primary_sector          main_sector\n",
       "7    adventure travel  automotive & sports\n",
       "13          aerospace  automotive & sports\n",
       "44               auto  automotive & sports\n",
       "45    automated kiosk  automotive & sports\n",
       "46         automotive  automotive & sports\n",
       "56           bicycles  automotive & sports\n",
       "68   boating industry  automotive & sports\n",
       "86                cad  automotive & sports\n",
       "92               cars  automotive & sports\n",
       "187            design  automotive & sports"
      ]
     },
     "execution_count": 40,
     "metadata": {},
     "output_type": "execute_result"
    }
   ],
   "source": [
    "# Mapping the \"primary_sector\" with \"main_sector\"\n",
    "\n",
    "mapping = pd.melt(mapping, id_vars = [\"category_list\"])\n",
    "mapping = mapping[mapping[\"value\"] == 1]\n",
    "mapping = mapping.drop('value', axis = 1)\n",
    "mapping = mapping.rename(columns = {\"category_list\" : \"primary_sector\", \"variable\" : \"main_sector\"})\n",
    "mapping[\"primary_sector\"] = mapping[\"primary_sector\"].str.lower()\n",
    "mapping[\"main_sector\"] = mapping[\"main_sector\"].str.lower()\n",
    "mapping.head(10)"
   ]
  },
  {
   "cell_type": "markdown",
   "metadata": {},
   "source": [
    " - Merged data frame with each primary sector mapped to its main sector (the primary sector should be present in a separate column)."
   ]
  },
  {
   "cell_type": "code",
   "execution_count": 41,
   "metadata": {},
   "outputs": [
    {
     "data": {
      "text/html": [
       "<div>\n",
       "<style scoped>\n",
       "    .dataframe tbody tr th:only-of-type {\n",
       "        vertical-align: middle;\n",
       "    }\n",
       "\n",
       "    .dataframe tbody tr th {\n",
       "        vertical-align: top;\n",
       "    }\n",
       "\n",
       "    .dataframe thead th {\n",
       "        text-align: right;\n",
       "    }\n",
       "</style>\n",
       "<table border=\"1\" class=\"dataframe\">\n",
       "  <thead>\n",
       "    <tr style=\"text-align: right;\">\n",
       "      <th></th>\n",
       "      <th>company_permalink</th>\n",
       "      <th>funding_round_permalink</th>\n",
       "      <th>funding_round_type</th>\n",
       "      <th>funding_round_code</th>\n",
       "      <th>funded_at</th>\n",
       "      <th>raised_amount_usd</th>\n",
       "      <th>permalink</th>\n",
       "      <th>name</th>\n",
       "      <th>homepage_url</th>\n",
       "      <th>category_list</th>\n",
       "      <th>status</th>\n",
       "      <th>country_code</th>\n",
       "      <th>state_code</th>\n",
       "      <th>region</th>\n",
       "      <th>city</th>\n",
       "      <th>founded_at</th>\n",
       "      <th>primary_sector</th>\n",
       "      <th>main_sector</th>\n",
       "    </tr>\n",
       "  </thead>\n",
       "  <tbody>\n",
       "    <tr>\n",
       "      <td>0</td>\n",
       "      <td>/organization/-fame</td>\n",
       "      <td>/funding-round/9a01d05418af9f794eebff7ace91f638</td>\n",
       "      <td>venture</td>\n",
       "      <td>B</td>\n",
       "      <td>05-01-2015</td>\n",
       "      <td>10.0</td>\n",
       "      <td>/organization/-fame</td>\n",
       "      <td>#fame</td>\n",
       "      <td>http://livfame.com</td>\n",
       "      <td>Media</td>\n",
       "      <td>operating</td>\n",
       "      <td>IND</td>\n",
       "      <td>16</td>\n",
       "      <td>Mumbai</td>\n",
       "      <td>Mumbai</td>\n",
       "      <td>NaN</td>\n",
       "      <td>media</td>\n",
       "      <td>entertainment</td>\n",
       "    </tr>\n",
       "  </tbody>\n",
       "</table>\n",
       "</div>"
      ],
      "text/plain": [
       "     company_permalink                          funding_round_permalink  \\\n",
       "0  /organization/-fame  /funding-round/9a01d05418af9f794eebff7ace91f638   \n",
       "\n",
       "  funding_round_type funding_round_code   funded_at  raised_amount_usd  \\\n",
       "0            venture                  B  05-01-2015               10.0   \n",
       "\n",
       "             permalink   name        homepage_url category_list     status  \\\n",
       "0  /organization/-fame  #fame  http://livfame.com         Media  operating   \n",
       "\n",
       "  country_code state_code  region    city founded_at primary_sector  \\\n",
       "0          IND         16  Mumbai  Mumbai        NaN          media   \n",
       "\n",
       "     main_sector  \n",
       "0  entertainment  "
      ]
     },
     "execution_count": 41,
     "metadata": {},
     "output_type": "execute_result"
    }
   ],
   "source": [
    "original_master_frame = original_master_frame.merge(mapping, on = \"primary_sector\", how = \"left\")\n",
    "original_master_frame = original_master_frame[ ~ (original_master_frame[\"main_sector\"].isnull())]\n",
    "original_master_frame.head(1)"
   ]
  },
  {
   "cell_type": "markdown",
   "metadata": {},
   "source": [
    "## Checkpoint 5: Sector Analysis 2\n",
    "\n",
    "Now, the aim is to find out the most heavily invested main sectors in each of the three countries (for funding type FT and investments range of 5-15 M USD).\n",
    "\n",
    " - Create three separate data frames D1, D2 and D3 for each of the three countries containing the observations of funding type FT falling within the 5-15 million USD range."
   ]
  },
  {
   "cell_type": "code",
   "execution_count": 42,
   "metadata": {},
   "outputs": [],
   "source": [
    "# D1, D2, D3 for top three countries Country1, Country2, Country3\n",
    "\n",
    "D1 = original_master_frame[original_master_frame[\"country_code\"] == \"USA\"]\n",
    "D2 = original_master_frame[original_master_frame[\"country_code\"] == \"GBR\"]\n",
    "D3 = original_master_frame[original_master_frame[\"country_code\"] == \"IND\"]"
   ]
  },
  {
   "cell_type": "code",
   "execution_count": 43,
   "metadata": {},
   "outputs": [],
   "source": [
    "# D1, D2, D3 for funding type venture\n",
    "\n",
    "D1 = D1[D1['funding_round_type'] == \"venture\"]\n",
    "D2 = D2[D2['funding_round_type'] == \"venture\"]\n",
    "D3 = D3[D3['funding_round_type'] == \"venture\"]"
   ]
  },
  {
   "cell_type": "code",
   "execution_count": 44,
   "metadata": {},
   "outputs": [],
   "source": [
    "# D1, D2, D3 for investment amount within the range of 5 to 15 million USD\n",
    "\n",
    "D1 = D1[(D1['raised_amount_usd'] >= 5) & (D1['raised_amount_usd'] <= 15)]\n",
    "D2 = D2[(D2['raised_amount_usd'] >= 5) & (D2['raised_amount_usd'] <= 15)]\n",
    "D3 = D3[(D3['raised_amount_usd'] >= 5) & (D3['raised_amount_usd'] <= 15)]"
   ]
  },
  {
   "cell_type": "markdown",
   "metadata": {},
   "source": [
    "Adding the total number (or count) of investments for each main sector in a separate column\n",
    "\n",
    "Adding the total amount invested in each main sector in a separate column"
   ]
  },
  {
   "cell_type": "code",
   "execution_count": 45,
   "metadata": {},
   "outputs": [
    {
     "data": {
      "text/html": [
       "<div>\n",
       "<style scoped>\n",
       "    .dataframe tbody tr th:only-of-type {\n",
       "        vertical-align: middle;\n",
       "    }\n",
       "\n",
       "    .dataframe tbody tr th {\n",
       "        vertical-align: top;\n",
       "    }\n",
       "\n",
       "    .dataframe thead th {\n",
       "        text-align: right;\n",
       "    }\n",
       "</style>\n",
       "<table border=\"1\" class=\"dataframe\">\n",
       "  <thead>\n",
       "    <tr style=\"text-align: right;\">\n",
       "      <th></th>\n",
       "      <th>total_amount</th>\n",
       "      <th>total_count</th>\n",
       "    </tr>\n",
       "    <tr>\n",
       "      <th>main_sector</th>\n",
       "      <th></th>\n",
       "      <th></th>\n",
       "    </tr>\n",
       "  </thead>\n",
       "  <tbody>\n",
       "    <tr>\n",
       "      <td>others</td>\n",
       "      <td>26321.007002</td>\n",
       "      <td>2950</td>\n",
       "    </tr>\n",
       "    <tr>\n",
       "      <td>social, finance, analytics, advertising</td>\n",
       "      <td>23807.376964</td>\n",
       "      <td>2714</td>\n",
       "    </tr>\n",
       "    <tr>\n",
       "      <td>cleantech / semiconductors</td>\n",
       "      <td>21633.430822</td>\n",
       "      <td>2350</td>\n",
       "    </tr>\n",
       "    <tr>\n",
       "      <td>news, search and messaging</td>\n",
       "      <td>13971.567428</td>\n",
       "      <td>1583</td>\n",
       "    </tr>\n",
       "    <tr>\n",
       "      <td>health</td>\n",
       "      <td>8211.859357</td>\n",
       "      <td>909</td>\n",
       "    </tr>\n",
       "    <tr>\n",
       "      <td>manufacturing</td>\n",
       "      <td>7258.553378</td>\n",
       "      <td>799</td>\n",
       "    </tr>\n",
       "    <tr>\n",
       "      <td>entertainment</td>\n",
       "      <td>5099.197982</td>\n",
       "      <td>591</td>\n",
       "    </tr>\n",
       "    <tr>\n",
       "      <td>automotive &amp; sports</td>\n",
       "      <td>1454.104361</td>\n",
       "      <td>167</td>\n",
       "    </tr>\n",
       "  </tbody>\n",
       "</table>\n",
       "</div>"
      ],
      "text/plain": [
       "                                         total_amount  total_count\n",
       "main_sector                                                       \n",
       "others                                   26321.007002         2950\n",
       "social, finance, analytics, advertising  23807.376964         2714\n",
       "cleantech / semiconductors               21633.430822         2350\n",
       "news, search and messaging               13971.567428         1583\n",
       "health                                    8211.859357          909\n",
       "manufacturing                             7258.553378          799\n",
       "entertainment                             5099.197982          591\n",
       "automotive & sports                       1454.104361          167"
      ]
     },
     "execution_count": 45,
     "metadata": {},
     "output_type": "execute_result"
    }
   ],
   "source": [
    "# Calculating amount and count per sector for D1\n",
    "\n",
    "D1_sector_frame = D1.groupby(\"main_sector\")\n",
    "D1_pivot_frame = pd.DataFrame(columns = [\"total_amount\", \"total_count\"])\n",
    "D1_pivot_frame[\"total_amount\"] = D1_sector_frame[\"raised_amount_usd\"].sum()\n",
    "D1_pivot_frame[\"total_count\"] = D1_sector_frame[\"main_sector\"].count()\n",
    "D1_pivot_frame.sort_values(by = \"total_count\", ascending = False)"
   ]
  },
  {
   "cell_type": "code",
   "execution_count": 46,
   "metadata": {},
   "outputs": [
    {
     "data": {
      "text/html": [
       "<div>\n",
       "<style scoped>\n",
       "    .dataframe tbody tr th:only-of-type {\n",
       "        vertical-align: middle;\n",
       "    }\n",
       "\n",
       "    .dataframe tbody tr th {\n",
       "        vertical-align: top;\n",
       "    }\n",
       "\n",
       "    .dataframe thead th {\n",
       "        text-align: right;\n",
       "    }\n",
       "</style>\n",
       "<table border=\"1\" class=\"dataframe\">\n",
       "  <thead>\n",
       "    <tr style=\"text-align: right;\">\n",
       "      <th></th>\n",
       "      <th>total_amount</th>\n",
       "      <th>total_count</th>\n",
       "    </tr>\n",
       "    <tr>\n",
       "      <th>main_sector</th>\n",
       "      <th></th>\n",
       "      <th></th>\n",
       "    </tr>\n",
       "  </thead>\n",
       "  <tbody>\n",
       "    <tr>\n",
       "      <td>others</td>\n",
       "      <td>1283.624289</td>\n",
       "      <td>147</td>\n",
       "    </tr>\n",
       "    <tr>\n",
       "      <td>social, finance, analytics, advertising</td>\n",
       "      <td>1089.404014</td>\n",
       "      <td>133</td>\n",
       "    </tr>\n",
       "    <tr>\n",
       "      <td>cleantech / semiconductors</td>\n",
       "      <td>1163.990056</td>\n",
       "      <td>130</td>\n",
       "    </tr>\n",
       "    <tr>\n",
       "      <td>news, search and messaging</td>\n",
       "      <td>615.746235</td>\n",
       "      <td>73</td>\n",
       "    </tr>\n",
       "    <tr>\n",
       "      <td>entertainment</td>\n",
       "      <td>482.784687</td>\n",
       "      <td>56</td>\n",
       "    </tr>\n",
       "    <tr>\n",
       "      <td>manufacturing</td>\n",
       "      <td>361.940335</td>\n",
       "      <td>42</td>\n",
       "    </tr>\n",
       "    <tr>\n",
       "      <td>health</td>\n",
       "      <td>214.537510</td>\n",
       "      <td>24</td>\n",
       "    </tr>\n",
       "    <tr>\n",
       "      <td>automotive &amp; sports</td>\n",
       "      <td>167.051565</td>\n",
       "      <td>16</td>\n",
       "    </tr>\n",
       "  </tbody>\n",
       "</table>\n",
       "</div>"
      ],
      "text/plain": [
       "                                         total_amount  total_count\n",
       "main_sector                                                       \n",
       "others                                    1283.624289          147\n",
       "social, finance, analytics, advertising   1089.404014          133\n",
       "cleantech / semiconductors                1163.990056          130\n",
       "news, search and messaging                 615.746235           73\n",
       "entertainment                              482.784687           56\n",
       "manufacturing                              361.940335           42\n",
       "health                                     214.537510           24\n",
       "automotive & sports                        167.051565           16"
      ]
     },
     "execution_count": 46,
     "metadata": {},
     "output_type": "execute_result"
    }
   ],
   "source": [
    "# Adding the total number (or count) of investments for each main sector in a separate column\n",
    "# Calculating amount and count per sector for D2\n",
    "\n",
    "D2_sector_frame = D2.groupby(\"main_sector\")\n",
    "D2_pivot_frame = pd.DataFrame(columns = [\"total_amount\", \"total_count\"])\n",
    "D2_pivot_frame[\"total_amount\"] = D2_sector_frame[\"raised_amount_usd\"].sum()\n",
    "D2_pivot_frame[\"total_count\"] = D2_sector_frame[\"main_sector\"].count()\n",
    "D2_pivot_frame.sort_values(by = \"total_count\", ascending = False)"
   ]
  },
  {
   "cell_type": "code",
   "execution_count": 47,
   "metadata": {},
   "outputs": [
    {
     "data": {
      "text/html": [
       "<div>\n",
       "<style scoped>\n",
       "    .dataframe tbody tr th:only-of-type {\n",
       "        vertical-align: middle;\n",
       "    }\n",
       "\n",
       "    .dataframe tbody tr th {\n",
       "        vertical-align: top;\n",
       "    }\n",
       "\n",
       "    .dataframe thead th {\n",
       "        text-align: right;\n",
       "    }\n",
       "</style>\n",
       "<table border=\"1\" class=\"dataframe\">\n",
       "  <thead>\n",
       "    <tr style=\"text-align: right;\">\n",
       "      <th></th>\n",
       "      <th>total_amount</th>\n",
       "      <th>total_count</th>\n",
       "    </tr>\n",
       "    <tr>\n",
       "      <th>main_sector</th>\n",
       "      <th></th>\n",
       "      <th></th>\n",
       "    </tr>\n",
       "  </thead>\n",
       "  <tbody>\n",
       "    <tr>\n",
       "      <td>others</td>\n",
       "      <td>1013.409507</td>\n",
       "      <td>110</td>\n",
       "    </tr>\n",
       "    <tr>\n",
       "      <td>social, finance, analytics, advertising</td>\n",
       "      <td>550.549550</td>\n",
       "      <td>60</td>\n",
       "    </tr>\n",
       "    <tr>\n",
       "      <td>news, search and messaging</td>\n",
       "      <td>433.834545</td>\n",
       "      <td>52</td>\n",
       "    </tr>\n",
       "    <tr>\n",
       "      <td>entertainment</td>\n",
       "      <td>280.830000</td>\n",
       "      <td>33</td>\n",
       "    </tr>\n",
       "    <tr>\n",
       "      <td>manufacturing</td>\n",
       "      <td>200.900000</td>\n",
       "      <td>21</td>\n",
       "    </tr>\n",
       "    <tr>\n",
       "      <td>cleantech / semiconductors</td>\n",
       "      <td>165.380000</td>\n",
       "      <td>20</td>\n",
       "    </tr>\n",
       "    <tr>\n",
       "      <td>health</td>\n",
       "      <td>167.740000</td>\n",
       "      <td>19</td>\n",
       "    </tr>\n",
       "    <tr>\n",
       "      <td>automotive &amp; sports</td>\n",
       "      <td>136.900000</td>\n",
       "      <td>13</td>\n",
       "    </tr>\n",
       "  </tbody>\n",
       "</table>\n",
       "</div>"
      ],
      "text/plain": [
       "                                         total_amount  total_count\n",
       "main_sector                                                       \n",
       "others                                    1013.409507          110\n",
       "social, finance, analytics, advertising    550.549550           60\n",
       "news, search and messaging                 433.834545           52\n",
       "entertainment                              280.830000           33\n",
       "manufacturing                              200.900000           21\n",
       "cleantech / semiconductors                 165.380000           20\n",
       "health                                     167.740000           19\n",
       "automotive & sports                        136.900000           13"
      ]
     },
     "execution_count": 47,
     "metadata": {},
     "output_type": "execute_result"
    }
   ],
   "source": [
    "# Calculating amount and count per sector for D3\n",
    "\n",
    "D3_sector_frame = D3.groupby(\"main_sector\")\n",
    "D3_pivot_frame = pd.DataFrame(columns = [\"total_amount\", \"total_count\"])\n",
    "D3_pivot_frame[\"total_amount\"] = D3_sector_frame[\"raised_amount_usd\"].sum()\n",
    "D3_pivot_frame[\"total_count\"] = D3_sector_frame[\"main_sector\"].count()\n",
    "D3_pivot_frame.sort_values(by = \"total_count\", ascending = False)"
   ]
  },
  {
   "cell_type": "code",
   "execution_count": 48,
   "metadata": {},
   "outputs": [],
   "source": [
    "# Merging count and sum of amounts to the main frames\n",
    "\n",
    "D1 = pd.merge(D1, D1_pivot_frame, on = \"main_sector\", how = \"left\")\n",
    "D2 = pd.merge(D2, D2_pivot_frame, on = \"main_sector\", how = \"left\")\n",
    "D3 = pd.merge(D3, D3_pivot_frame, on = \"main_sector\", how = \"left\")"
   ]
  },
  {
   "cell_type": "code",
   "execution_count": 49,
   "metadata": {},
   "outputs": [
    {
     "data": {
      "text/html": [
       "<div>\n",
       "<style scoped>\n",
       "    .dataframe tbody tr th:only-of-type {\n",
       "        vertical-align: middle;\n",
       "    }\n",
       "\n",
       "    .dataframe tbody tr th {\n",
       "        vertical-align: top;\n",
       "    }\n",
       "\n",
       "    .dataframe thead th {\n",
       "        text-align: right;\n",
       "    }\n",
       "</style>\n",
       "<table border=\"1\" class=\"dataframe\">\n",
       "  <thead>\n",
       "    <tr style=\"text-align: right;\">\n",
       "      <th></th>\n",
       "      <th>raised_amount_usd</th>\n",
       "      <th>total_amount</th>\n",
       "      <th>total_count</th>\n",
       "    </tr>\n",
       "  </thead>\n",
       "  <tbody>\n",
       "    <tr>\n",
       "      <td>count</td>\n",
       "      <td>12063.000000</td>\n",
       "      <td>12063.000000</td>\n",
       "      <td>12063.000000</td>\n",
       "    </tr>\n",
       "    <tr>\n",
       "      <td>mean</td>\n",
       "      <td>8.932861</td>\n",
       "      <td>19210.509089</td>\n",
       "      <td>2150.255906</td>\n",
       "    </tr>\n",
       "    <tr>\n",
       "      <td>std</td>\n",
       "      <td>3.075861</td>\n",
       "      <td>7386.910723</td>\n",
       "      <td>829.804841</td>\n",
       "    </tr>\n",
       "    <tr>\n",
       "      <td>min</td>\n",
       "      <td>5.000000</td>\n",
       "      <td>1454.104361</td>\n",
       "      <td>167.000000</td>\n",
       "    </tr>\n",
       "    <tr>\n",
       "      <td>25%</td>\n",
       "      <td>6.000971</td>\n",
       "      <td>13971.567428</td>\n",
       "      <td>1583.000000</td>\n",
       "    </tr>\n",
       "    <tr>\n",
       "      <td>50%</td>\n",
       "      <td>8.300000</td>\n",
       "      <td>21633.430822</td>\n",
       "      <td>2350.000000</td>\n",
       "    </tr>\n",
       "    <tr>\n",
       "      <td>75%</td>\n",
       "      <td>11.000000</td>\n",
       "      <td>23807.376964</td>\n",
       "      <td>2714.000000</td>\n",
       "    </tr>\n",
       "    <tr>\n",
       "      <td>max</td>\n",
       "      <td>15.000000</td>\n",
       "      <td>26321.007002</td>\n",
       "      <td>2950.000000</td>\n",
       "    </tr>\n",
       "  </tbody>\n",
       "</table>\n",
       "</div>"
      ],
      "text/plain": [
       "       raised_amount_usd  total_amount   total_count\n",
       "count       12063.000000  12063.000000  12063.000000\n",
       "mean            8.932861  19210.509089   2150.255906\n",
       "std             3.075861   7386.910723    829.804841\n",
       "min             5.000000   1454.104361    167.000000\n",
       "25%             6.000971  13971.567428   1583.000000\n",
       "50%             8.300000  21633.430822   2350.000000\n",
       "75%            11.000000  23807.376964   2714.000000\n",
       "max            15.000000  26321.007002   2950.000000"
      ]
     },
     "execution_count": 49,
     "metadata": {},
     "output_type": "execute_result"
    }
   ],
   "source": [
    "D1.describe()"
   ]
  },
  {
   "cell_type": "code",
   "execution_count": 50,
   "metadata": {},
   "outputs": [
    {
     "data": {
      "text/html": [
       "<div>\n",
       "<style scoped>\n",
       "    .dataframe tbody tr th:only-of-type {\n",
       "        vertical-align: middle;\n",
       "    }\n",
       "\n",
       "    .dataframe tbody tr th {\n",
       "        vertical-align: top;\n",
       "    }\n",
       "\n",
       "    .dataframe thead th {\n",
       "        text-align: right;\n",
       "    }\n",
       "</style>\n",
       "<table border=\"1\" class=\"dataframe\">\n",
       "  <thead>\n",
       "    <tr style=\"text-align: right;\">\n",
       "      <th></th>\n",
       "      <th>raised_amount_usd</th>\n",
       "      <th>total_amount</th>\n",
       "      <th>total_count</th>\n",
       "    </tr>\n",
       "  </thead>\n",
       "  <tbody>\n",
       "    <tr>\n",
       "      <td>count</td>\n",
       "      <td>621.000000</td>\n",
       "      <td>621.000000</td>\n",
       "      <td>621.000000</td>\n",
       "    </tr>\n",
       "    <tr>\n",
       "      <td>mean</td>\n",
       "      <td>8.661962</td>\n",
       "      <td>933.833895</td>\n",
       "      <td>108.307568</td>\n",
       "    </tr>\n",
       "    <tr>\n",
       "      <td>std</td>\n",
       "      <td>2.867167</td>\n",
       "      <td>364.628422</td>\n",
       "      <td>42.085594</td>\n",
       "    </tr>\n",
       "    <tr>\n",
       "      <td>min</td>\n",
       "      <td>5.000000</td>\n",
       "      <td>167.051565</td>\n",
       "      <td>16.000000</td>\n",
       "    </tr>\n",
       "    <tr>\n",
       "      <td>25%</td>\n",
       "      <td>6.084330</td>\n",
       "      <td>615.746235</td>\n",
       "      <td>73.000000</td>\n",
       "    </tr>\n",
       "    <tr>\n",
       "      <td>50%</td>\n",
       "      <td>8.000000</td>\n",
       "      <td>1089.404014</td>\n",
       "      <td>130.000000</td>\n",
       "    </tr>\n",
       "    <tr>\n",
       "      <td>75%</td>\n",
       "      <td>10.606760</td>\n",
       "      <td>1163.990056</td>\n",
       "      <td>133.000000</td>\n",
       "    </tr>\n",
       "    <tr>\n",
       "      <td>max</td>\n",
       "      <td>15.000000</td>\n",
       "      <td>1283.624289</td>\n",
       "      <td>147.000000</td>\n",
       "    </tr>\n",
       "  </tbody>\n",
       "</table>\n",
       "</div>"
      ],
      "text/plain": [
       "       raised_amount_usd  total_amount  total_count\n",
       "count         621.000000    621.000000   621.000000\n",
       "mean            8.661962    933.833895   108.307568\n",
       "std             2.867167    364.628422    42.085594\n",
       "min             5.000000    167.051565    16.000000\n",
       "25%             6.084330    615.746235    73.000000\n",
       "50%             8.000000   1089.404014   130.000000\n",
       "75%            10.606760   1163.990056   133.000000\n",
       "max            15.000000   1283.624289   147.000000"
      ]
     },
     "execution_count": 50,
     "metadata": {},
     "output_type": "execute_result"
    }
   ],
   "source": [
    "D2.describe()"
   ]
  },
  {
   "cell_type": "code",
   "execution_count": 51,
   "metadata": {},
   "outputs": [
    {
     "data": {
      "text/html": [
       "<div>\n",
       "<style scoped>\n",
       "    .dataframe tbody tr th:only-of-type {\n",
       "        vertical-align: middle;\n",
       "    }\n",
       "\n",
       "    .dataframe tbody tr th {\n",
       "        vertical-align: top;\n",
       "    }\n",
       "\n",
       "    .dataframe thead th {\n",
       "        text-align: right;\n",
       "    }\n",
       "</style>\n",
       "<table border=\"1\" class=\"dataframe\">\n",
       "  <thead>\n",
       "    <tr style=\"text-align: right;\">\n",
       "      <th></th>\n",
       "      <th>raised_amount_usd</th>\n",
       "      <th>total_amount</th>\n",
       "      <th>total_count</th>\n",
       "    </tr>\n",
       "  </thead>\n",
       "  <tbody>\n",
       "    <tr>\n",
       "      <td>count</td>\n",
       "      <td>328.000000</td>\n",
       "      <td>328.000000</td>\n",
       "      <td>328.000000</td>\n",
       "    </tr>\n",
       "    <tr>\n",
       "      <td>mean</td>\n",
       "      <td>8.992511</td>\n",
       "      <td>575.695320</td>\n",
       "      <td>63.609756</td>\n",
       "    </tr>\n",
       "    <tr>\n",
       "      <td>std</td>\n",
       "      <td>3.219811</td>\n",
       "      <td>336.428258</td>\n",
       "      <td>35.953931</td>\n",
       "    </tr>\n",
       "    <tr>\n",
       "      <td>min</td>\n",
       "      <td>5.000000</td>\n",
       "      <td>136.900000</td>\n",
       "      <td>13.000000</td>\n",
       "    </tr>\n",
       "    <tr>\n",
       "      <td>25%</td>\n",
       "      <td>6.000000</td>\n",
       "      <td>280.830000</td>\n",
       "      <td>33.000000</td>\n",
       "    </tr>\n",
       "    <tr>\n",
       "      <td>50%</td>\n",
       "      <td>8.700000</td>\n",
       "      <td>550.549550</td>\n",
       "      <td>60.000000</td>\n",
       "    </tr>\n",
       "    <tr>\n",
       "      <td>75%</td>\n",
       "      <td>10.555000</td>\n",
       "      <td>1013.409507</td>\n",
       "      <td>110.000000</td>\n",
       "    </tr>\n",
       "    <tr>\n",
       "      <td>max</td>\n",
       "      <td>15.000000</td>\n",
       "      <td>1013.409507</td>\n",
       "      <td>110.000000</td>\n",
       "    </tr>\n",
       "  </tbody>\n",
       "</table>\n",
       "</div>"
      ],
      "text/plain": [
       "       raised_amount_usd  total_amount  total_count\n",
       "count         328.000000    328.000000   328.000000\n",
       "mean            8.992511    575.695320    63.609756\n",
       "std             3.219811    336.428258    35.953931\n",
       "min             5.000000    136.900000    13.000000\n",
       "25%             6.000000    280.830000    33.000000\n",
       "50%             8.700000    550.549550    60.000000\n",
       "75%            10.555000   1013.409507   110.000000\n",
       "max            15.000000   1013.409507   110.000000"
      ]
     },
     "execution_count": 51,
     "metadata": {},
     "output_type": "execute_result"
    }
   ],
   "source": [
    "D3.describe()"
   ]
  },
  {
   "cell_type": "markdown",
   "metadata": {},
   "source": [
    "## Sector-wise Investment Analysis"
   ]
  },
  {
   "cell_type": "markdown",
   "metadata": {},
   "source": [
    "### - Total number of investments (count)"
   ]
  },
  {
   "cell_type": "markdown",
   "metadata": {},
   "source": [
    "Country1 (United States (USA)) - 12063"
   ]
  },
  {
   "cell_type": "code",
   "execution_count": 52,
   "metadata": {},
   "outputs": [
    {
     "data": {
      "text/plain": [
       "12063"
      ]
     },
     "execution_count": 52,
     "metadata": {},
     "output_type": "execute_result"
    }
   ],
   "source": [
    "D1[\"raised_amount_usd\"].count()"
   ]
  },
  {
   "cell_type": "markdown",
   "metadata": {},
   "source": [
    "Country2 (United Kingdom (GBR)) - 621"
   ]
  },
  {
   "cell_type": "code",
   "execution_count": 53,
   "metadata": {},
   "outputs": [
    {
     "data": {
      "text/plain": [
       "621"
      ]
     },
     "execution_count": 53,
     "metadata": {},
     "output_type": "execute_result"
    }
   ],
   "source": [
    "D2[\"raised_amount_usd\"].count()"
   ]
  },
  {
   "cell_type": "markdown",
   "metadata": {},
   "source": [
    "Country3 (India (IND)) - 328"
   ]
  },
  {
   "cell_type": "code",
   "execution_count": 54,
   "metadata": {},
   "outputs": [
    {
     "data": {
      "text/plain": [
       "328"
      ]
     },
     "execution_count": 54,
     "metadata": {},
     "output_type": "execute_result"
    }
   ],
   "source": [
    "D3[\"raised_amount_usd\"].count()"
   ]
  },
  {
   "cell_type": "markdown",
   "metadata": {},
   "source": [
    "### - Total amount of investment (USD)"
   ]
  },
  {
   "cell_type": "markdown",
   "metadata": {},
   "source": [
    "Country1 (United States (USA)) - 107757.1 million USD"
   ]
  },
  {
   "cell_type": "code",
   "execution_count": 55,
   "metadata": {},
   "outputs": [
    {
     "data": {
      "text/plain": [
       "107757.1"
      ]
     },
     "execution_count": 55,
     "metadata": {},
     "output_type": "execute_result"
    }
   ],
   "source": [
    "round(D1[\"raised_amount_usd\"].sum(), 2)"
   ]
  },
  {
   "cell_type": "markdown",
   "metadata": {},
   "source": [
    "Country2 (United Kingdom (GBR)) - 5379.08 million USD"
   ]
  },
  {
   "cell_type": "code",
   "execution_count": 56,
   "metadata": {},
   "outputs": [
    {
     "data": {
      "text/plain": [
       "5379.08"
      ]
     },
     "execution_count": 56,
     "metadata": {},
     "output_type": "execute_result"
    }
   ],
   "source": [
    "round(D2[\"raised_amount_usd\"].sum(), 2)"
   ]
  },
  {
   "cell_type": "markdown",
   "metadata": {},
   "source": [
    "Country3 (India (IND)) - 2949 .54 million USD"
   ]
  },
  {
   "cell_type": "code",
   "execution_count": 57,
   "metadata": {},
   "outputs": [
    {
     "data": {
      "text/plain": [
       "2949.54"
      ]
     },
     "execution_count": 57,
     "metadata": {},
     "output_type": "execute_result"
    }
   ],
   "source": [
    "round(D3[\"raised_amount_usd\"].sum(), 2)"
   ]
  },
  {
   "cell_type": "markdown",
   "metadata": {},
   "source": [
    "Investments based on count for all the three countries"
   ]
  },
  {
   "cell_type": "markdown",
   "metadata": {},
   "source": [
    "Country1 (United States (USA)):"
   ]
  },
  {
   "cell_type": "code",
   "execution_count": 58,
   "metadata": {},
   "outputs": [
    {
     "data": {
      "text/plain": [
       "main_sector\n",
       "others                                     2950\n",
       "social, finance, analytics, advertising    2714\n",
       "cleantech / semiconductors                 2350\n",
       "Name: raised_amount_usd, dtype: int64"
      ]
     },
     "execution_count": 58,
     "metadata": {},
     "output_type": "execute_result"
    }
   ],
   "source": [
    "D1.groupby(\"main_sector\")[\"raised_amount_usd\"].count().sort_values(ascending = False).head(3)"
   ]
  },
  {
   "cell_type": "markdown",
   "metadata": {},
   "source": [
    "Country2 (United Kingdom (GBR)):"
   ]
  },
  {
   "cell_type": "code",
   "execution_count": 59,
   "metadata": {},
   "outputs": [
    {
     "data": {
      "text/plain": [
       "main_sector\n",
       "others                                     147\n",
       "social, finance, analytics, advertising    133\n",
       "cleantech / semiconductors                 130\n",
       "Name: raised_amount_usd, dtype: int64"
      ]
     },
     "execution_count": 59,
     "metadata": {},
     "output_type": "execute_result"
    }
   ],
   "source": [
    "D2.groupby(\"main_sector\")[\"raised_amount_usd\"].count().sort_values(ascending = False).head(3)"
   ]
  },
  {
   "cell_type": "markdown",
   "metadata": {},
   "source": [
    "Country3 (India (IND)):"
   ]
  },
  {
   "cell_type": "code",
   "execution_count": 60,
   "metadata": {},
   "outputs": [
    {
     "data": {
      "text/plain": [
       "main_sector\n",
       "others                                     110\n",
       "social, finance, analytics, advertising     60\n",
       "news, search and messaging                  52\n",
       "Name: raised_amount_usd, dtype: int64"
      ]
     },
     "execution_count": 60,
     "metadata": {},
     "output_type": "execute_result"
    }
   ],
   "source": [
    "D3.groupby(\"main_sector\")[\"raised_amount_usd\"].count().sort_values(ascending = False).head(3)"
   ]
  },
  {
   "cell_type": "markdown",
   "metadata": {},
   "source": [
    "### - Top sector (based on count of investments)\n",
    " - Country1 (United States (USA)) - Others\n",
    " - Country2 (United Kingdom (GBR)) - Others\n",
    " - Country3 (India (IND)) - Others"
   ]
  },
  {
   "cell_type": "markdown",
   "metadata": {},
   "source": [
    "### - Second Sector name (no. of investment-wise)\n",
    " - Country1 (United States (USA)) - Social, Finance, Analytics, Advertising\n",
    " - Country2 (United Kingdom (GBR)) - Social, Finance, Analytics, Advertising\n",
    " - Country3 (India (IND)) - Social, Finance, Analytics, Advertising"
   ]
  },
  {
   "cell_type": "markdown",
   "metadata": {},
   "source": [
    "### - Third Sector name (no. of investment-wise)\n",
    " - Country1 (United States (USA)) - Cleantech / Semiconductors \n",
    " - Country2 (United Kingdom (GBR)) - Cleantech / Semiconductors \n",
    " - Country3 (India (IND)) - News, Search and Messaging "
   ]
  },
  {
   "cell_type": "markdown",
   "metadata": {},
   "source": [
    "### - Number of investments in top sector (3)\n",
    " - Country1 (United States (USA)) - 2950\n",
    " - Country2 (United Kingdom (GBR)) - 147\n",
    " - Country3 (India (IND)) - 110"
   ]
  },
  {
   "cell_type": "markdown",
   "metadata": {},
   "source": [
    "### - Number of investments in second sector (4)\n",
    " - Country1 (United States (USA)) - 2714\n",
    " - Country2 (United Kingdom (GBR)) - 133\n",
    " - Country3 (India (IND)) - 60"
   ]
  },
  {
   "cell_type": "markdown",
   "metadata": {},
   "source": [
    "### - Number of investments in third sector (5)\n",
    " - Country1 (United States (USA)) - 2350\n",
    " - Country2 (United Kingdom (GBR)) - 130\n",
    " - Country3 (India (IND)) - 52"
   ]
  },
  {
   "cell_type": "markdown",
   "metadata": {},
   "source": [
    "### - For point 3 (top sector count-wise), which company received the highest investment?"
   ]
  },
  {
   "cell_type": "markdown",
   "metadata": {},
   "source": [
    "Country1 (United States (USA)): Virtustream"
   ]
  },
  {
   "cell_type": "code",
   "execution_count": 61,
   "metadata": {},
   "outputs": [
    {
     "data": {
      "text/plain": [
       "name\n",
       "Virtustream    64.3\n",
       "Name: raised_amount_usd, dtype: float64"
      ]
     },
     "execution_count": 61,
     "metadata": {},
     "output_type": "execute_result"
    }
   ],
   "source": [
    "D1[D1[\"main_sector\"] == \"others\" ].groupby(\"name\")[\"raised_amount_usd\"].sum().sort_values(ascending = False).head(1)"
   ]
  },
  {
   "cell_type": "markdown",
   "metadata": {},
   "source": [
    "Country2 (United Kingdom (GBR)) - Electric Cloud "
   ]
  },
  {
   "cell_type": "code",
   "execution_count": 62,
   "metadata": {},
   "outputs": [
    {
     "data": {
      "text/plain": [
       "name\n",
       "Electric Cloud    37.0\n",
       "Name: raised_amount_usd, dtype: float64"
      ]
     },
     "execution_count": 62,
     "metadata": {},
     "output_type": "execute_result"
    }
   ],
   "source": [
    "D2[D2[\"main_sector\"] == \"others\" ].groupby(\"name\")[\"raised_amount_usd\"].sum().sort_values(ascending = False).head(1)"
   ]
  },
  {
   "cell_type": "markdown",
   "metadata": {},
   "source": [
    "Country3 (India (IND)) - FirstCry.com"
   ]
  },
  {
   "cell_type": "code",
   "execution_count": 63,
   "metadata": {},
   "outputs": [
    {
     "data": {
      "text/plain": [
       "name\n",
       "FirstCry.com    39.0\n",
       "Name: raised_amount_usd, dtype: float64"
      ]
     },
     "execution_count": 63,
     "metadata": {},
     "output_type": "execute_result"
    }
   ],
   "source": [
    "D3[D3[\"main_sector\"] == \"others\" ].groupby(\"name\")[\"raised_amount_usd\"].sum().sort_values(ascending = False).head(1)"
   ]
  },
  {
   "cell_type": "markdown",
   "metadata": {},
   "source": [
    "### - For point 4 (second best sector count-wise), which company received the highest investment?"
   ]
  },
  {
   "cell_type": "markdown",
   "metadata": {},
   "source": [
    "Country1 (United States (USA)): SST Inc. (Formerly ShotSpotter)"
   ]
  },
  {
   "cell_type": "code",
   "execution_count": 64,
   "metadata": {},
   "outputs": [
    {
     "data": {
      "text/plain": [
       "name\n",
       "SST Inc. (Formerly ShotSpotter)    67.933006\n",
       "Name: raised_amount_usd, dtype: float64"
      ]
     },
     "execution_count": 64,
     "metadata": {},
     "output_type": "execute_result"
    }
   ],
   "source": [
    "D1[D1[\"main_sector\"] == \"social, finance, analytics, advertising\" ].groupby(\"name\")[\"raised_amount_usd\"].sum().sort_values(ascending = False).head(1)"
   ]
  },
  {
   "cell_type": "markdown",
   "metadata": {},
   "source": [
    "Country2 (United Kingdom (GBR)) - Celltick Technologies"
   ]
  },
  {
   "cell_type": "code",
   "execution_count": 65,
   "metadata": {},
   "outputs": [
    {
     "data": {
      "text/plain": [
       "name\n",
       "Celltick Technologies    37.5\n",
       "Name: raised_amount_usd, dtype: float64"
      ]
     },
     "execution_count": 65,
     "metadata": {},
     "output_type": "execute_result"
    }
   ],
   "source": [
    "D2[D2[\"main_sector\"] == \"social, finance, analytics, advertising\" ].groupby(\"name\")[\"raised_amount_usd\"].sum().sort_values(ascending = False).head(1)"
   ]
  },
  {
   "cell_type": "markdown",
   "metadata": {},
   "source": [
    "Country3 (India (IND)) - Manthan Systems"
   ]
  },
  {
   "cell_type": "code",
   "execution_count": 66,
   "metadata": {},
   "outputs": [
    {
     "data": {
      "text/plain": [
       "name\n",
       "Manthan Systems    50.7\n",
       "Name: raised_amount_usd, dtype: float64"
      ]
     },
     "execution_count": 66,
     "metadata": {},
     "output_type": "execute_result"
    }
   ],
   "source": [
    "D3[D3[\"main_sector\"] == \"social, finance, analytics, advertising\" ].groupby(\"name\")[\"raised_amount_usd\"].sum().sort_values(ascending = False).head(1)"
   ]
  },
  {
   "cell_type": "code",
   "execution_count": 67,
   "metadata": {
    "scrolled": true
   },
   "outputs": [
    {
     "data": {
      "image/png": "[encoded data removed]",
      "text/plain": [
       "<Figure size 720x216 with 1 Axes>"
      ]
     },
     "metadata": {
      "needs_background": "light"
     },
     "output_type": "display_data"
    },
    {
     "data": {
      "image/png": "[encoded data removed]",
      "text/plain": [
       "<Figure size 720x216 with 1 Axes>"
      ]
     },
     "metadata": {
      "needs_background": "light"
     },
     "output_type": "display_data"
    },
    {
     "data": {
      "image/png": "[encoded data removed]",
      "text/plain": [
       "<Figure size 720x216 with 1 Axes>"
      ]
     },
     "metadata": {
      "needs_background": "light"
     },
     "output_type": "display_data"
    }
   ],
   "source": [
    "# Plotting sector analysis for top 3 countries\n",
    "\n",
    "plt.figure(figsize = (10,3))\n",
    "sns.countplot(y = \"main_sector\", data = D1)\n",
    "plt.title(\"Total number of investments for each sector in United States - USA\")\n",
    "plt.xlabel(\"Number of investments\")\n",
    "plt.ylabel(\"Sector\")\n",
    "plt.show()\n",
    "\n",
    "plt.figure(figsize = (10,3))\n",
    "sns.countplot(y = \"main_sector\", data = D2)\n",
    "plt.title(\"Total number of investments for each sector in United Kingdom - GBR\")\n",
    "plt.xlabel(\"Number of investments\")\n",
    "plt.ylabel(\"Sector\")\n",
    "plt.show()\n",
    "\n",
    "plt.figure(figsize = (10,3))\n",
    "sns.countplot(y = \"main_sector\", data = D3)\n",
    "plt.title(\"Total number of investments for each sector in India - IND\")\n",
    "plt.xlabel(\"Number of investments\")\n",
    "plt.ylabel(\"Sector\")\n",
    "plt.show()"
   ]
  },
  {
   "cell_type": "markdown",
   "metadata": {},
   "source": [
    "### \"Others\" is the sector which is most widely invested in among the three top countries, followed by \"Social, Finance, Analytics, Advertising\" sector."
   ]
  },
  {
   "cell_type": "markdown",
   "metadata": {},
   "source": [
    "## Checkpoint 6: Plots"
   ]
  },
  {
   "cell_type": "markdown",
   "metadata": {},
   "source": [
    "### - A plot showing the fraction of total investments (globally) in angel, venture, seed, and private equity, and the average amount of investment in each funding type. This chart should make it clear that a certain funding type (FT) is best suited for Spark Funds."
   ]
  },
  {
   "cell_type": "code",
   "execution_count": 68,
   "metadata": {},
   "outputs": [
    {
     "data": {
      "image/png": "[encoded data removed]",
      "text/plain": [
       "<Figure size 1080x576 with 2 Axes>"
      ]
     },
     "metadata": {
      "needs_background": "light"
     },
     "output_type": "display_data"
    },
    {
     "data": {
      "image/png": "[encoded data removed]",
      "text/plain": [
       "<Figure size 432x288 with 1 Axes>"
      ]
     },
     "metadata": {},
     "output_type": "display_data"
    }
   ],
   "source": [
    "plt.figure(figsize = (15, 8))\n",
    "\n",
    "plt.subplot(1, 2, 1)\n",
    "sns.countplot(plots_frame[\"funding_round_type\"])\n",
    "plt.title(\"Total investments (globally) in angel, venture, seed, and private equity\")\n",
    "plt.xlabel(\"Funding type\")\n",
    "plt.ylabel(\"Number of investments\")\n",
    "\n",
    "plt.subplot(1, 2, 2)\n",
    "sns.barplot(plots_frame[\"funding_round_type\"], plots_frame[\"raised_amount_usd\"], estimator = np.mean)\n",
    "plt.title(\"Average amount of investment in each funding type\")\n",
    "plt.xlabel(\"Funding type\")\n",
    "plt.ylabel(\"Money raised in funding (USD)\")\n",
    "plt.axhline(y = 5, linewidth = 1, color = \"red\")\n",
    "plt.axhline(y = 15, linewidth = 1, color = \"red\")\n",
    "plt.show()\n",
    "\n",
    "investment_types_count = plots_frame[\"funding_round_type\"].value_counts()\n",
    "venture_counts = investment_types_count.values\n",
    "ventures = investment_types_count.index.tolist()\n",
    "total_investments = len(plots_frame[\"funding_round_type\"])\n",
    "percentages_FT = list(map(lambda x : round((x / total_investments) * 100, 2), venture_counts))\n",
    "\n",
    "explode = (0.1, 0, 0, 0)\n",
    "fig1, ax1 = plt.subplots()\n",
    "ax1.pie(percentages_FT, explode = explode, labels = ventures, autopct = \"%1.1f%%\", shadow = True, startangle = 30)\n",
    "ax1.axis(\"equal\")\n",
    "plt.title(\"Fraction of total investments (globally) in angel, venture, seed, and private equity\")\n",
    "plt.show()"
   ]
  },
  {
   "cell_type": "markdown",
   "metadata": {},
   "source": [
    "### - A plot showing the top 9 countries against the total amount of investments of funding type FT. This should make the top 3 countries (Country 1, Country 2, and Country 3) very clear."
   ]
  },
  {
   "cell_type": "code",
   "execution_count": 69,
   "metadata": {},
   "outputs": [
    {
     "data": {
      "image/png": "[encoded data removed]",
      "text/plain": [
       "<Figure size 1080x576 with 1 Axes>"
      ]
     },
     "metadata": {
      "needs_background": "light"
     },
     "output_type": "display_data"
    }
   ],
   "source": [
    "plt.figure(figsize = (15,8))\n",
    "\n",
    "top9[\"raised_amount_usd\"] = top9[\"raised_amount_usd\"]\n",
    "sns.barplot(top9[\"country_code\"], top9[\"raised_amount_usd\"], estimator = np.sum)\n",
    "plt.yscale(\"log\")\n",
    "plt.ylabel(\"Money raised in funding (USD) - in logarithmic expression\")\n",
    "plt.xlabel(\"Countries\")\n",
    "plt.title(\"Country wise analysis for venture funding type\")\n",
    "plt.show()"
   ]
  },
  {
   "cell_type": "markdown",
   "metadata": {},
   "source": [
    "### - A plot showing the number of investments in the top 3 sectors of the top 3 countries on one chart (for the chosen investment type FT). "
   ]
  },
  {
   "cell_type": "code",
   "execution_count": 70,
   "metadata": {},
   "outputs": [
    {
     "data": {
      "image/png": "[encoded data removed]",
      "text/plain": [
       "<Figure size 1080x576 with 1 Axes>"
      ]
     },
     "metadata": {
      "needs_background": "light"
     },
     "output_type": "display_data"
    }
   ],
   "source": [
    "plt.figure(figsize = (15,8))\n",
    "\n",
    "D1 = D1[D1[\"main_sector\"].isin([\"others\",\"social, finance, analytics, advertising\", \"cleantech / semiconductors\"])]\n",
    "D2 = D2[D2[\"main_sector\"].isin([\"others\",\"social, finance, analytics, advertising\", \"cleantech / semiconductors\"])]\n",
    "D3 = D3[D3[\"main_sector\"].isin([\"others\",\"social, finance, analytics, advertising\",\"news, search and messaging\"])]\n",
    "\n",
    "overall_frames = pd.concat([D1, D2, D3])\n",
    "sns.barplot(overall_frames[\"country_code\"], overall_frames[\"raised_amount_usd\"], estimator = np.sum, hue = \"main_sector\", data = overall_frames)\n",
    "plt.xlabel(\"Countries\")\n",
    "plt.ylabel(\"Number of Investments\")\n",
    "plt.title(\"Investments in top3 sectors of top 3 countries\")\n",
    "plt.show()"
   ]
  },
  {
   "cell_type": "markdown",
   "metadata": {},
   "source": [
    "## Conclusion\n",
    "### Spark Funds must invest in a company in United States of America (USA) in the Social, Finance, Analytics, Advertising sector with Venture as the funding type."
   ]
  },
  {
   "cell_type": "code",
   "execution_count": 71,
   "metadata": {
    "scrolled": false
   },
   "outputs": [
    {
     "data": {
      "image/png": "[encoded data removed]",
      "text/plain": [
       "<Figure size 1440x360 with 1 Axes>"
      ]
     },
     "metadata": {
      "needs_background": "light"
     },
     "output_type": "display_data"
    },
    {
     "data": {
      "image/png": "[encoded data removed]",
      "text/plain": [
       "<Figure size 1440x360 with 1 Axes>"
      ]
     },
     "metadata": {
      "needs_background": "light"
     },
     "output_type": "display_data"
    }
   ],
   "source": [
    "# Plotting the total funding and investments for \"Social, Finance, Analytics, Adverstising\" in USA with venture funding type\n",
    "\n",
    "D1 = D1[D1[\"main_sector\"].isin([\"others\",\"social, finance, analytics, advertising\"])]\n",
    "\n",
    "plt.figure(figsize = (20,5))\n",
    "sns.barplot(y = \"main_sector\", x = \"raised_amount_usd\", data = D1, estimator = sum)\n",
    "plt.title(\"Funding for 'Social, Finance, Analytics, Adverstising' sector in USA for venture funding type\")\n",
    "plt.xlabel(\"Money raised in funding (USD)\")\n",
    "plt.ylabel(\"Sectors\")\n",
    "plt.show()\n",
    "\n",
    "plt.figure(figsize = (20,5))\n",
    "sns.countplot(y = \"main_sector\", data = D1)\n",
    "plt.title(\"Investments for 'Social, Finance, Analytics, Adverstising' sector in USA for venture funding type\")\n",
    "plt.xlabel(\"Number of investments\")\n",
    "plt.ylabel(\"Sectors\")\n",
    "plt.show()"
   ]
  },
  {
   "cell_type": "code",
   "execution_count": null,
   "metadata": {},
   "outputs": [],
   "source": []
  }
 ],
 "metadata": {
  "kernelspec": {
   "display_name": "Python 3",
   "language": "python",
   "name": "python3"
  },
  "language_info": {
   "codemirror_mode": {
    "name": "ipython",
    "version": 3
   },
   "file_extension": ".py",
   "mimetype": "text/x-python",
   "name": "python",
   "nbconvert_exporter": "python",
   "pygments_lexer": "ipython3",
   "version": "3.7.4"
  }
 },
 "nbformat": 4,
 "nbformat_minor": 2
}
